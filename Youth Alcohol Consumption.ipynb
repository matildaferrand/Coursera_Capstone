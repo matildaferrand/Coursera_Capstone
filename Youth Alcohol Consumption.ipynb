{
 "cells": [
  {
   "cell_type": "markdown",
   "metadata": {},
   "source": [
    "<font size='50'> Loading Data </font>"
   ]
  },
  {
   "cell_type": "code",
   "execution_count": 1,
   "metadata": {},
   "outputs": [],
   "source": [
    "import pandas as pd\n",
    "import numpy as np"
   ]
  },
  {
   "cell_type": "code",
   "execution_count": 2,
   "metadata": {},
   "outputs": [
    {
     "data": {
      "text/html": [
       "<div>\n",
       "<style scoped>\n",
       "    .dataframe tbody tr th:only-of-type {\n",
       "        vertical-align: middle;\n",
       "    }\n",
       "\n",
       "    .dataframe tbody tr th {\n",
       "        vertical-align: top;\n",
       "    }\n",
       "\n",
       "    .dataframe thead th {\n",
       "        text-align: right;\n",
       "    }\n",
       "</style>\n",
       "<table border=\"1\" class=\"dataframe\">\n",
       "  <thead>\n",
       "    <tr style=\"text-align: right;\">\n",
       "      <th></th>\n",
       "      <th>Unnamed: 0</th>\n",
       "      <th>Unnamed: 1</th>\n",
       "      <th>15-19 years old, current drinkers (%)</th>\n",
       "      <th>15-19 years old, current drinkers (%).1</th>\n",
       "      <th>15-19 years old, current drinkers (%).2</th>\n",
       "    </tr>\n",
       "  </thead>\n",
       "  <tbody>\n",
       "    <tr>\n",
       "      <th>0</th>\n",
       "      <td>Country</td>\n",
       "      <td>Year</td>\n",
       "      <td>Both sexes</td>\n",
       "      <td>Male</td>\n",
       "      <td>Female</td>\n",
       "    </tr>\n",
       "    <tr>\n",
       "      <th>1</th>\n",
       "      <td>Afghanistan</td>\n",
       "      <td>2016</td>\n",
       "      <td>0.3 [0.3-0.4]</td>\n",
       "      <td>0.5 [0.4-0.7]</td>\n",
       "      <td>0.1 [0.1-0.2]</td>\n",
       "    </tr>\n",
       "    <tr>\n",
       "      <th>2</th>\n",
       "      <td>Albania</td>\n",
       "      <td>2016</td>\n",
       "      <td>37.7 [34.8-40.5]</td>\n",
       "      <td>50.5 [46-54.9]</td>\n",
       "      <td>24.2 [21.1-27.6]</td>\n",
       "    </tr>\n",
       "    <tr>\n",
       "      <th>3</th>\n",
       "      <td>Algeria</td>\n",
       "      <td>2016</td>\n",
       "      <td>1.5 [1.3-1.8]</td>\n",
       "      <td>2.3 [1.9-2.8]</td>\n",
       "      <td>0.7 [0.6-0.9]</td>\n",
       "    </tr>\n",
       "    <tr>\n",
       "      <th>4</th>\n",
       "      <td>Andorra</td>\n",
       "      <td>2016</td>\n",
       "      <td>64.2 [-]</td>\n",
       "      <td>76.6 [-]</td>\n",
       "      <td>50.7 [-]</td>\n",
       "    </tr>\n",
       "  </tbody>\n",
       "</table>\n",
       "</div>"
      ],
      "text/plain": [
       "    Unnamed: 0 Unnamed: 1 15-19 years old, current drinkers (%)  \\\n",
       "0      Country       Year                            Both sexes   \n",
       "1  Afghanistan       2016                         0.3 [0.3-0.4]   \n",
       "2      Albania       2016                      37.7 [34.8-40.5]   \n",
       "3      Algeria       2016                         1.5 [1.3-1.8]   \n",
       "4      Andorra       2016                              64.2 [-]   \n",
       "\n",
       "  15-19 years old, current drinkers (%).1  \\\n",
       "0                                    Male   \n",
       "1                           0.5 [0.4-0.7]   \n",
       "2                          50.5 [46-54.9]   \n",
       "3                           2.3 [1.9-2.8]   \n",
       "4                                76.6 [-]   \n",
       "\n",
       "  15-19 years old, current drinkers (%).2  \n",
       "0                                  Female  \n",
       "1                           0.1 [0.1-0.2]  \n",
       "2                        24.2 [21.1-27.6]  \n",
       "3                           0.7 [0.6-0.9]  \n",
       "4                                50.7 [-]  "
      ]
     },
     "execution_count": 2,
     "metadata": {},
     "output_type": "execute_result"
    }
   ],
   "source": [
    "#Load Dataset\n",
    "path = '/Users/matildaferrand/Library/Mobile Documents/com~apple~Numbers/Documents/youth_alcohol.csv'\n",
    "underage = pd.read_csv(path)\n",
    "underage.head()"
   ]
  },
  {
   "cell_type": "code",
   "execution_count": 3,
   "metadata": {},
   "outputs": [
    {
     "data": {
      "text/html": [
       "<div>\n",
       "<style scoped>\n",
       "    .dataframe tbody tr th:only-of-type {\n",
       "        vertical-align: middle;\n",
       "    }\n",
       "\n",
       "    .dataframe tbody tr th {\n",
       "        vertical-align: top;\n",
       "    }\n",
       "\n",
       "    .dataframe thead th {\n",
       "        text-align: right;\n",
       "    }\n",
       "</style>\n",
       "<table border=\"1\" class=\"dataframe\">\n",
       "  <thead>\n",
       "    <tr style=\"text-align: right;\">\n",
       "      <th></th>\n",
       "      <th>Unnamed: 0</th>\n",
       "      <th>Unnamed: 1</th>\n",
       "      <th>Age limits off-premise sales</th>\n",
       "      <th>Age limits off-premise sales.1</th>\n",
       "      <th>Age limits off-premise sales.2</th>\n",
       "      <th>Age limits on-premise service</th>\n",
       "      <th>Age limits on-premise service.1</th>\n",
       "      <th>Age limits on-premise service.2</th>\n",
       "    </tr>\n",
       "  </thead>\n",
       "  <tbody>\n",
       "    <tr>\n",
       "      <th>0</th>\n",
       "      <td>Country</td>\n",
       "      <td>Year</td>\n",
       "      <td>Beer</td>\n",
       "      <td>Wine</td>\n",
       "      <td>Spirits</td>\n",
       "      <td>Beer</td>\n",
       "      <td>Wine</td>\n",
       "      <td>Spirits</td>\n",
       "    </tr>\n",
       "    <tr>\n",
       "      <th>1</th>\n",
       "      <td>Afghanistan</td>\n",
       "      <td>2016</td>\n",
       "      <td>Total ban</td>\n",
       "      <td>Total ban</td>\n",
       "      <td>Total ban</td>\n",
       "      <td>Total ban</td>\n",
       "      <td>Total ban</td>\n",
       "      <td>Total ban</td>\n",
       "    </tr>\n",
       "    <tr>\n",
       "      <th>2</th>\n",
       "      <td>Albania</td>\n",
       "      <td>2016</td>\n",
       "      <td>18</td>\n",
       "      <td>18</td>\n",
       "      <td>18</td>\n",
       "      <td>18</td>\n",
       "      <td>18</td>\n",
       "      <td>18</td>\n",
       "    </tr>\n",
       "    <tr>\n",
       "      <th>3</th>\n",
       "      <td>Algeria</td>\n",
       "      <td>2016</td>\n",
       "      <td>18</td>\n",
       "      <td>18</td>\n",
       "      <td>18</td>\n",
       "      <td>18</td>\n",
       "      <td>18</td>\n",
       "      <td>18</td>\n",
       "    </tr>\n",
       "    <tr>\n",
       "      <th>4</th>\n",
       "      <td>Andorra</td>\n",
       "      <td>2016</td>\n",
       "      <td>18</td>\n",
       "      <td>18</td>\n",
       "      <td>18</td>\n",
       "      <td>18</td>\n",
       "      <td>18</td>\n",
       "      <td>18</td>\n",
       "    </tr>\n",
       "  </tbody>\n",
       "</table>\n",
       "</div>"
      ],
      "text/plain": [
       "    Unnamed: 0 Unnamed: 1 Age limits off-premise sales  \\\n",
       "0      Country       Year                         Beer   \n",
       "1  Afghanistan       2016                    Total ban   \n",
       "2      Albania       2016                           18   \n",
       "3      Algeria       2016                           18   \n",
       "4      Andorra       2016                           18   \n",
       "\n",
       "  Age limits off-premise sales.1 Age limits off-premise sales.2  \\\n",
       "0                           Wine                        Spirits   \n",
       "1                      Total ban                      Total ban   \n",
       "2                             18                             18   \n",
       "3                             18                             18   \n",
       "4                             18                             18   \n",
       "\n",
       "  Age limits on-premise service Age limits on-premise service.1  \\\n",
       "0                          Beer                            Wine   \n",
       "1                     Total ban                       Total ban   \n",
       "2                            18                              18   \n",
       "3                            18                              18   \n",
       "4                            18                              18   \n",
       "\n",
       "  Age limits on-premise service.2  \n",
       "0                         Spirits  \n",
       "1                       Total ban  \n",
       "2                              18  \n",
       "3                              18  \n",
       "4                              18  "
      ]
     },
     "execution_count": 3,
     "metadata": {},
     "output_type": "execute_result"
    }
   ],
   "source": [
    "path = '/Users/matildaferrand/Downloads/alcohol_age_limit.csv'\n",
    "df2 = pd.read_csv(path)\n",
    "df2.head()"
   ]
  },
  {
   "cell_type": "code",
   "execution_count": 4,
   "metadata": {},
   "outputs": [],
   "source": [
    "DF1 = pd.merge(underage, df2, left_on='Unnamed: 0' , right_on='Unnamed: 0')"
   ]
  },
  {
   "cell_type": "code",
   "execution_count": 5,
   "metadata": {},
   "outputs": [
    {
     "data": {
      "text/html": [
       "<div>\n",
       "<style scoped>\n",
       "    .dataframe tbody tr th:only-of-type {\n",
       "        vertical-align: middle;\n",
       "    }\n",
       "\n",
       "    .dataframe tbody tr th {\n",
       "        vertical-align: top;\n",
       "    }\n",
       "\n",
       "    .dataframe thead th {\n",
       "        text-align: right;\n",
       "    }\n",
       "</style>\n",
       "<table border=\"1\" class=\"dataframe\">\n",
       "  <thead>\n",
       "    <tr style=\"text-align: right;\">\n",
       "      <th></th>\n",
       "      <th>Unnamed: 0</th>\n",
       "      <th>Unnamed: 1</th>\n",
       "      <th>Alcohol, abstainers past 12 months (%)</th>\n",
       "      <th>Alcohol, abstainers past 12 months (%).1</th>\n",
       "      <th>Alcohol, abstainers past 12 months (%).2</th>\n",
       "    </tr>\n",
       "  </thead>\n",
       "  <tbody>\n",
       "    <tr>\n",
       "      <th>0</th>\n",
       "      <td>Country</td>\n",
       "      <td>Year</td>\n",
       "      <td>Both sexes</td>\n",
       "      <td>Male</td>\n",
       "      <td>Female</td>\n",
       "    </tr>\n",
       "    <tr>\n",
       "      <th>1</th>\n",
       "      <td>Afghanistan</td>\n",
       "      <td>2016</td>\n",
       "      <td>99.3</td>\n",
       "      <td>99.0</td>\n",
       "      <td>99.7</td>\n",
       "    </tr>\n",
       "    <tr>\n",
       "      <th>2</th>\n",
       "      <td>Albania</td>\n",
       "      <td>2016</td>\n",
       "      <td>49.0</td>\n",
       "      <td>35.0</td>\n",
       "      <td>62.4</td>\n",
       "    </tr>\n",
       "    <tr>\n",
       "      <th>3</th>\n",
       "      <td>Algeria</td>\n",
       "      <td>2016</td>\n",
       "      <td>96.8</td>\n",
       "      <td>95.2</td>\n",
       "      <td>98.5</td>\n",
       "    </tr>\n",
       "    <tr>\n",
       "      <th>4</th>\n",
       "      <td>Andorra</td>\n",
       "      <td>2016</td>\n",
       "      <td>25.4</td>\n",
       "      <td>14.8</td>\n",
       "      <td>35.7</td>\n",
       "    </tr>\n",
       "  </tbody>\n",
       "</table>\n",
       "</div>"
      ],
      "text/plain": [
       "    Unnamed: 0 Unnamed: 1 Alcohol, abstainers past 12 months (%)  \\\n",
       "0      Country       Year                             Both sexes   \n",
       "1  Afghanistan       2016                                   99.3   \n",
       "2      Albania       2016                                   49.0   \n",
       "3      Algeria       2016                                   96.8   \n",
       "4      Andorra       2016                                   25.4   \n",
       "\n",
       "  Alcohol, abstainers past 12 months (%).1  \\\n",
       "0                                     Male   \n",
       "1                                     99.0   \n",
       "2                                     35.0   \n",
       "3                                     95.2   \n",
       "4                                     14.8   \n",
       "\n",
       "  Alcohol, abstainers past 12 months (%).2  \n",
       "0                                   Female  \n",
       "1                                     99.7  \n",
       "2                                     62.4  \n",
       "3                                     98.5  \n",
       "4                                     35.7  "
      ]
     },
     "execution_count": 5,
     "metadata": {},
     "output_type": "execute_result"
    }
   ],
   "source": [
    "#Loading some more\n",
    "path = '/Users/matildaferrand/Downloads/SA_0000001411.csv'\n",
    "Abstaining_from_alcohol = pd.read_csv(path)\n",
    "Abstaining_from_alcohol.head()"
   ]
  },
  {
   "cell_type": "code",
   "execution_count": 6,
   "metadata": {},
   "outputs": [
    {
     "data": {
      "text/html": [
       "<div>\n",
       "<style scoped>\n",
       "    .dataframe tbody tr th:only-of-type {\n",
       "        vertical-align: middle;\n",
       "    }\n",
       "\n",
       "    .dataframe tbody tr th {\n",
       "        vertical-align: top;\n",
       "    }\n",
       "\n",
       "    .dataframe thead th {\n",
       "        text-align: right;\n",
       "    }\n",
       "</style>\n",
       "<table border=\"1\" class=\"dataframe\">\n",
       "  <thead>\n",
       "    <tr style=\"text-align: right;\">\n",
       "      <th></th>\n",
       "      <th>Unnamed: 0</th>\n",
       "      <th>Alcohol-attributable fractions (15+), road traffic crash deaths (%)</th>\n",
       "      <th>Alcohol-attributable fractions (15+), road traffic crash deaths (%).1</th>\n",
       "    </tr>\n",
       "  </thead>\n",
       "  <tbody>\n",
       "    <tr>\n",
       "      <th>0</th>\n",
       "      <td>NaN</td>\n",
       "      <td>Male</td>\n",
       "      <td>Female</td>\n",
       "    </tr>\n",
       "    <tr>\n",
       "      <th>1</th>\n",
       "      <td>Country</td>\n",
       "      <td>2016</td>\n",
       "      <td>2016</td>\n",
       "    </tr>\n",
       "    <tr>\n",
       "      <th>2</th>\n",
       "      <td>Afghanistan</td>\n",
       "      <td>0.7</td>\n",
       "      <td>0.5</td>\n",
       "    </tr>\n",
       "    <tr>\n",
       "      <th>3</th>\n",
       "      <td>Albania</td>\n",
       "      <td>37.9</td>\n",
       "      <td>28</td>\n",
       "    </tr>\n",
       "    <tr>\n",
       "      <th>4</th>\n",
       "      <td>Algeria</td>\n",
       "      <td>3.1</td>\n",
       "      <td>2</td>\n",
       "    </tr>\n",
       "  </tbody>\n",
       "</table>\n",
       "</div>"
      ],
      "text/plain": [
       "    Unnamed: 0  \\\n",
       "0          NaN   \n",
       "1      Country   \n",
       "2  Afghanistan   \n",
       "3      Albania   \n",
       "4      Algeria   \n",
       "\n",
       "  Alcohol-attributable fractions (15+), road traffic crash deaths (%)  \\\n",
       "0                                               Male                    \n",
       "1                                               2016                    \n",
       "2                                                0.7                    \n",
       "3                                               37.9                    \n",
       "4                                                3.1                    \n",
       "\n",
       "  Alcohol-attributable fractions (15+), road traffic crash deaths (%).1  \n",
       "0                                             Female                     \n",
       "1                                               2016                     \n",
       "2                                                0.5                     \n",
       "3                                                 28                     \n",
       "4                                                  2                     "
      ]
     },
     "execution_count": 6,
     "metadata": {},
     "output_type": "execute_result"
    }
   ],
   "source": [
    "path = '/Users/matildaferrand/Downloads/SA_0000001742.csv'\n",
    "Road_traffic_deaths = pd.read_csv(path)\n",
    "Road_traffic_deaths.head()"
   ]
  },
  {
   "cell_type": "code",
   "execution_count": 7,
   "metadata": {},
   "outputs": [
    {
     "data": {
      "text/html": [
       "<div>\n",
       "<style scoped>\n",
       "    .dataframe tbody tr th:only-of-type {\n",
       "        vertical-align: middle;\n",
       "    }\n",
       "\n",
       "    .dataframe tbody tr th {\n",
       "        vertical-align: top;\n",
       "    }\n",
       "\n",
       "    .dataframe thead th {\n",
       "        text-align: right;\n",
       "    }\n",
       "</style>\n",
       "<table border=\"1\" class=\"dataframe\">\n",
       "  <thead>\n",
       "    <tr style=\"text-align: right;\">\n",
       "      <th></th>\n",
       "      <th>Unnamed: 0</th>\n",
       "      <th>Alcohol-attributable fractions (15+), liver cirrhosis deaths (%)</th>\n",
       "      <th>Alcohol-attributable fractions (15+), liver cirrhosis deaths (%).1</th>\n",
       "    </tr>\n",
       "  </thead>\n",
       "  <tbody>\n",
       "    <tr>\n",
       "      <th>0</th>\n",
       "      <td>NaN</td>\n",
       "      <td>Male</td>\n",
       "      <td>Female</td>\n",
       "    </tr>\n",
       "    <tr>\n",
       "      <th>1</th>\n",
       "      <td>Country</td>\n",
       "      <td>2016</td>\n",
       "      <td>2016</td>\n",
       "    </tr>\n",
       "    <tr>\n",
       "      <th>2</th>\n",
       "      <td>Afghanistan</td>\n",
       "      <td>5.5</td>\n",
       "      <td>1.1</td>\n",
       "    </tr>\n",
       "    <tr>\n",
       "      <th>3</th>\n",
       "      <td>Albania</td>\n",
       "      <td>70.3</td>\n",
       "      <td>45.6</td>\n",
       "    </tr>\n",
       "    <tr>\n",
       "      <th>4</th>\n",
       "      <td>Algeria</td>\n",
       "      <td>22.7</td>\n",
       "      <td>7</td>\n",
       "    </tr>\n",
       "  </tbody>\n",
       "</table>\n",
       "</div>"
      ],
      "text/plain": [
       "    Unnamed: 0  \\\n",
       "0          NaN   \n",
       "1      Country   \n",
       "2  Afghanistan   \n",
       "3      Albania   \n",
       "4      Algeria   \n",
       "\n",
       "  Alcohol-attributable fractions (15+), liver cirrhosis deaths (%)  \\\n",
       "0                                               Male                 \n",
       "1                                               2016                 \n",
       "2                                                5.5                 \n",
       "3                                               70.3                 \n",
       "4                                               22.7                 \n",
       "\n",
       "  Alcohol-attributable fractions (15+), liver cirrhosis deaths (%).1  \n",
       "0                                             Female                  \n",
       "1                                               2016                  \n",
       "2                                                1.1                  \n",
       "3                                               45.6                  \n",
       "4                                                  7                  "
      ]
     },
     "execution_count": 7,
     "metadata": {},
     "output_type": "execute_result"
    }
   ],
   "source": [
    "path = '/Users/matildaferrand/Downloads/SA_0000001741.csv'\n",
    "Liver_cirrosis = pd.read_csv(path)\n",
    "Liver_cirrosis.head()"
   ]
  },
  {
   "cell_type": "code",
   "execution_count": 8,
   "metadata": {
    "scrolled": true
   },
   "outputs": [
    {
     "data": {
      "text/html": [
       "<div>\n",
       "<style scoped>\n",
       "    .dataframe tbody tr th:only-of-type {\n",
       "        vertical-align: middle;\n",
       "    }\n",
       "\n",
       "    .dataframe tbody tr th {\n",
       "        vertical-align: top;\n",
       "    }\n",
       "\n",
       "    .dataframe thead th {\n",
       "        text-align: right;\n",
       "    }\n",
       "</style>\n",
       "<table border=\"1\" class=\"dataframe\">\n",
       "  <thead>\n",
       "    <tr style=\"text-align: right;\">\n",
       "      <th></th>\n",
       "      <th>Unnamed: 0</th>\n",
       "      <th>Unnamed: 1</th>\n",
       "      <th>Alcohol, heavy episodic drinking (15+), drinkers only, past 30 days (%)</th>\n",
       "      <th>Alcohol, heavy episodic drinking (15+), drinkers only, past 30 days (%).1</th>\n",
       "      <th>Alcohol, heavy episodic drinking (15+), drinkers only, past 30 days (%).2</th>\n",
       "    </tr>\n",
       "  </thead>\n",
       "  <tbody>\n",
       "    <tr>\n",
       "      <th>0</th>\n",
       "      <td>Country</td>\n",
       "      <td>Year</td>\n",
       "      <td>Both sexes</td>\n",
       "      <td>Male</td>\n",
       "      <td>Female</td>\n",
       "    </tr>\n",
       "    <tr>\n",
       "      <th>1</th>\n",
       "      <td>Afghanistan</td>\n",
       "      <td>2016</td>\n",
       "      <td>2</td>\n",
       "      <td>2.3</td>\n",
       "      <td>0.5</td>\n",
       "    </tr>\n",
       "    <tr>\n",
       "      <th>2</th>\n",
       "      <td>Albania</td>\n",
       "      <td>2016</td>\n",
       "      <td>44.7</td>\n",
       "      <td>57.4</td>\n",
       "      <td>23.7</td>\n",
       "    </tr>\n",
       "    <tr>\n",
       "      <th>3</th>\n",
       "      <td>Algeria</td>\n",
       "      <td>2016</td>\n",
       "      <td>19.3</td>\n",
       "      <td>23.5</td>\n",
       "      <td>6.2</td>\n",
       "    </tr>\n",
       "    <tr>\n",
       "      <th>4</th>\n",
       "      <td>Andorra</td>\n",
       "      <td>2016</td>\n",
       "      <td>40.5</td>\n",
       "      <td>55</td>\n",
       "      <td>21.7</td>\n",
       "    </tr>\n",
       "  </tbody>\n",
       "</table>\n",
       "</div>"
      ],
      "text/plain": [
       "    Unnamed: 0 Unnamed: 1  \\\n",
       "0      Country       Year   \n",
       "1  Afghanistan       2016   \n",
       "2      Albania       2016   \n",
       "3      Algeria       2016   \n",
       "4      Andorra       2016   \n",
       "\n",
       "  Alcohol, heavy episodic drinking (15+), drinkers only, past 30 days (%)  \\\n",
       "0                                         Both sexes                        \n",
       "1                                                  2                        \n",
       "2                                               44.7                        \n",
       "3                                               19.3                        \n",
       "4                                               40.5                        \n",
       "\n",
       "  Alcohol, heavy episodic drinking (15+), drinkers only, past 30 days (%).1  \\\n",
       "0                                               Male                          \n",
       "1                                                2.3                          \n",
       "2                                               57.4                          \n",
       "3                                               23.5                          \n",
       "4                                                 55                          \n",
       "\n",
       "  Alcohol, heavy episodic drinking (15+), drinkers only, past 30 days (%).2  \n",
       "0                                             Female                         \n",
       "1                                                0.5                         \n",
       "2                                               23.7                         \n",
       "3                                                6.2                         \n",
       "4                                               21.7                         "
      ]
     },
     "execution_count": 8,
     "metadata": {},
     "output_type": "execute_result"
    }
   ],
   "source": [
    "path = '/Users/matildaferrand/Downloads/SA_0000001415,SA_0000001416.csv'\n",
    "Heavy_drinking = pd.read_csv(path)\n",
    "Heavy_drinking.head()"
   ]
  },
  {
   "cell_type": "code",
   "execution_count": 9,
   "metadata": {},
   "outputs": [],
   "source": [
    "DF2 = pd.merge(Heavy_drinking, Liver_cirrosis, left_on='Unnamed: 0', right_on='Unnamed: 0')\n",
    "DF3 = pd.merge(Abstaining_from_alcohol, Road_traffic_deaths, left_on='Unnamed: 0', right_on='Unnamed: 0')"
   ]
  },
  {
   "cell_type": "code",
   "execution_count": 10,
   "metadata": {},
   "outputs": [
    {
     "data": {
      "text/html": [
       "<div>\n",
       "<style scoped>\n",
       "    .dataframe tbody tr th:only-of-type {\n",
       "        vertical-align: middle;\n",
       "    }\n",
       "\n",
       "    .dataframe tbody tr th {\n",
       "        vertical-align: top;\n",
       "    }\n",
       "\n",
       "    .dataframe thead th {\n",
       "        text-align: right;\n",
       "    }\n",
       "</style>\n",
       "<table border=\"1\" class=\"dataframe\">\n",
       "  <thead>\n",
       "    <tr style=\"text-align: right;\">\n",
       "      <th></th>\n",
       "      <th>Unnamed: 0</th>\n",
       "      <th>Unnamed: 1</th>\n",
       "      <th>Alcohol, abstainers past 12 months (%)</th>\n",
       "      <th>Alcohol, abstainers past 12 months (%).1</th>\n",
       "      <th>Alcohol, abstainers past 12 months (%).2</th>\n",
       "      <th>Alcohol-attributable fractions (15+), road traffic crash deaths (%)</th>\n",
       "      <th>Alcohol-attributable fractions (15+), road traffic crash deaths (%).1</th>\n",
       "    </tr>\n",
       "  </thead>\n",
       "  <tbody>\n",
       "    <tr>\n",
       "      <th>0</th>\n",
       "      <td>Country</td>\n",
       "      <td>Year</td>\n",
       "      <td>Both sexes</td>\n",
       "      <td>Male</td>\n",
       "      <td>Female</td>\n",
       "      <td>2016</td>\n",
       "      <td>2016</td>\n",
       "    </tr>\n",
       "    <tr>\n",
       "      <th>1</th>\n",
       "      <td>Afghanistan</td>\n",
       "      <td>2016</td>\n",
       "      <td>99.3</td>\n",
       "      <td>99.0</td>\n",
       "      <td>99.7</td>\n",
       "      <td>0.7</td>\n",
       "      <td>0.5</td>\n",
       "    </tr>\n",
       "    <tr>\n",
       "      <th>2</th>\n",
       "      <td>Albania</td>\n",
       "      <td>2016</td>\n",
       "      <td>49.0</td>\n",
       "      <td>35.0</td>\n",
       "      <td>62.4</td>\n",
       "      <td>37.9</td>\n",
       "      <td>28</td>\n",
       "    </tr>\n",
       "    <tr>\n",
       "      <th>3</th>\n",
       "      <td>Algeria</td>\n",
       "      <td>2016</td>\n",
       "      <td>96.8</td>\n",
       "      <td>95.2</td>\n",
       "      <td>98.5</td>\n",
       "      <td>3.1</td>\n",
       "      <td>2</td>\n",
       "    </tr>\n",
       "    <tr>\n",
       "      <th>4</th>\n",
       "      <td>Andorra</td>\n",
       "      <td>2016</td>\n",
       "      <td>25.4</td>\n",
       "      <td>14.8</td>\n",
       "      <td>35.7</td>\n",
       "      <td>No data</td>\n",
       "      <td>No data</td>\n",
       "    </tr>\n",
       "  </tbody>\n",
       "</table>\n",
       "</div>"
      ],
      "text/plain": [
       "    Unnamed: 0 Unnamed: 1 Alcohol, abstainers past 12 months (%)  \\\n",
       "0      Country       Year                             Both sexes   \n",
       "1  Afghanistan       2016                                   99.3   \n",
       "2      Albania       2016                                   49.0   \n",
       "3      Algeria       2016                                   96.8   \n",
       "4      Andorra       2016                                   25.4   \n",
       "\n",
       "  Alcohol, abstainers past 12 months (%).1  \\\n",
       "0                                     Male   \n",
       "1                                     99.0   \n",
       "2                                     35.0   \n",
       "3                                     95.2   \n",
       "4                                     14.8   \n",
       "\n",
       "  Alcohol, abstainers past 12 months (%).2  \\\n",
       "0                                   Female   \n",
       "1                                     99.7   \n",
       "2                                     62.4   \n",
       "3                                     98.5   \n",
       "4                                     35.7   \n",
       "\n",
       "  Alcohol-attributable fractions (15+), road traffic crash deaths (%)  \\\n",
       "0                                               2016                    \n",
       "1                                                0.7                    \n",
       "2                                               37.9                    \n",
       "3                                                3.1                    \n",
       "4                                            No data                    \n",
       "\n",
       "  Alcohol-attributable fractions (15+), road traffic crash deaths (%).1  \n",
       "0                                               2016                     \n",
       "1                                                0.5                     \n",
       "2                                                 28                     \n",
       "3                                                  2                     \n",
       "4                                            No data                     "
      ]
     },
     "execution_count": 10,
     "metadata": {},
     "output_type": "execute_result"
    }
   ],
   "source": [
    "DF3.head()"
   ]
  },
  {
   "cell_type": "code",
   "execution_count": 11,
   "metadata": {},
   "outputs": [
    {
     "data": {
      "text/html": [
       "<div>\n",
       "<style scoped>\n",
       "    .dataframe tbody tr th:only-of-type {\n",
       "        vertical-align: middle;\n",
       "    }\n",
       "\n",
       "    .dataframe tbody tr th {\n",
       "        vertical-align: top;\n",
       "    }\n",
       "\n",
       "    .dataframe thead th {\n",
       "        text-align: right;\n",
       "    }\n",
       "</style>\n",
       "<table border=\"1\" class=\"dataframe\">\n",
       "  <thead>\n",
       "    <tr style=\"text-align: right;\">\n",
       "      <th></th>\n",
       "      <th>Unnamed: 0</th>\n",
       "      <th>Unnamed: 1_x</th>\n",
       "      <th>Alcohol, heavy episodic drinking (15+), drinkers only, past 30 days (%)</th>\n",
       "      <th>Alcohol, heavy episodic drinking (15+), drinkers only, past 30 days (%).1</th>\n",
       "      <th>Alcohol, heavy episodic drinking (15+), drinkers only, past 30 days (%).2</th>\n",
       "      <th>Alcohol-attributable fractions (15+), liver cirrhosis deaths (%)</th>\n",
       "      <th>Alcohol-attributable fractions (15+), liver cirrhosis deaths (%).1</th>\n",
       "      <th>Unnamed: 1_y</th>\n",
       "      <th>Alcohol, abstainers past 12 months (%)</th>\n",
       "      <th>Alcohol, abstainers past 12 months (%).1</th>\n",
       "      <th>Alcohol, abstainers past 12 months (%).2</th>\n",
       "      <th>Alcohol-attributable fractions (15+), road traffic crash deaths (%)</th>\n",
       "      <th>Alcohol-attributable fractions (15+), road traffic crash deaths (%).1</th>\n",
       "    </tr>\n",
       "  </thead>\n",
       "  <tbody>\n",
       "    <tr>\n",
       "      <th>0</th>\n",
       "      <td>Country</td>\n",
       "      <td>Year</td>\n",
       "      <td>Both sexes</td>\n",
       "      <td>Male</td>\n",
       "      <td>Female</td>\n",
       "      <td>2016</td>\n",
       "      <td>2016</td>\n",
       "      <td>Year</td>\n",
       "      <td>Both sexes</td>\n",
       "      <td>Male</td>\n",
       "      <td>Female</td>\n",
       "      <td>2016</td>\n",
       "      <td>2016</td>\n",
       "    </tr>\n",
       "    <tr>\n",
       "      <th>1</th>\n",
       "      <td>Afghanistan</td>\n",
       "      <td>2016</td>\n",
       "      <td>2</td>\n",
       "      <td>2.3</td>\n",
       "      <td>0.5</td>\n",
       "      <td>5.5</td>\n",
       "      <td>1.1</td>\n",
       "      <td>2016</td>\n",
       "      <td>99.3</td>\n",
       "      <td>99.0</td>\n",
       "      <td>99.7</td>\n",
       "      <td>0.7</td>\n",
       "      <td>0.5</td>\n",
       "    </tr>\n",
       "    <tr>\n",
       "      <th>2</th>\n",
       "      <td>Albania</td>\n",
       "      <td>2016</td>\n",
       "      <td>44.7</td>\n",
       "      <td>57.4</td>\n",
       "      <td>23.7</td>\n",
       "      <td>70.3</td>\n",
       "      <td>45.6</td>\n",
       "      <td>2016</td>\n",
       "      <td>49.0</td>\n",
       "      <td>35.0</td>\n",
       "      <td>62.4</td>\n",
       "      <td>37.9</td>\n",
       "      <td>28</td>\n",
       "    </tr>\n",
       "    <tr>\n",
       "      <th>3</th>\n",
       "      <td>Algeria</td>\n",
       "      <td>2016</td>\n",
       "      <td>19.3</td>\n",
       "      <td>23.5</td>\n",
       "      <td>6.2</td>\n",
       "      <td>22.7</td>\n",
       "      <td>7</td>\n",
       "      <td>2016</td>\n",
       "      <td>96.8</td>\n",
       "      <td>95.2</td>\n",
       "      <td>98.5</td>\n",
       "      <td>3.1</td>\n",
       "      <td>2</td>\n",
       "    </tr>\n",
       "    <tr>\n",
       "      <th>4</th>\n",
       "      <td>Andorra</td>\n",
       "      <td>2016</td>\n",
       "      <td>40.5</td>\n",
       "      <td>55</td>\n",
       "      <td>21.7</td>\n",
       "      <td>No data</td>\n",
       "      <td>No data</td>\n",
       "      <td>2016</td>\n",
       "      <td>25.4</td>\n",
       "      <td>14.8</td>\n",
       "      <td>35.7</td>\n",
       "      <td>No data</td>\n",
       "      <td>No data</td>\n",
       "    </tr>\n",
       "  </tbody>\n",
       "</table>\n",
       "</div>"
      ],
      "text/plain": [
       "    Unnamed: 0 Unnamed: 1_x  \\\n",
       "0      Country         Year   \n",
       "1  Afghanistan         2016   \n",
       "2      Albania         2016   \n",
       "3      Algeria         2016   \n",
       "4      Andorra         2016   \n",
       "\n",
       "  Alcohol, heavy episodic drinking (15+), drinkers only, past 30 days (%)  \\\n",
       "0                                         Both sexes                        \n",
       "1                                                  2                        \n",
       "2                                               44.7                        \n",
       "3                                               19.3                        \n",
       "4                                               40.5                        \n",
       "\n",
       "  Alcohol, heavy episodic drinking (15+), drinkers only, past 30 days (%).1  \\\n",
       "0                                               Male                          \n",
       "1                                                2.3                          \n",
       "2                                               57.4                          \n",
       "3                                               23.5                          \n",
       "4                                                 55                          \n",
       "\n",
       "  Alcohol, heavy episodic drinking (15+), drinkers only, past 30 days (%).2  \\\n",
       "0                                             Female                          \n",
       "1                                                0.5                          \n",
       "2                                               23.7                          \n",
       "3                                                6.2                          \n",
       "4                                               21.7                          \n",
       "\n",
       "  Alcohol-attributable fractions (15+), liver cirrhosis deaths (%)  \\\n",
       "0                                               2016                 \n",
       "1                                                5.5                 \n",
       "2                                               70.3                 \n",
       "3                                               22.7                 \n",
       "4                                            No data                 \n",
       "\n",
       "  Alcohol-attributable fractions (15+), liver cirrhosis deaths (%).1  \\\n",
       "0                                               2016                   \n",
       "1                                                1.1                   \n",
       "2                                               45.6                   \n",
       "3                                                  7                   \n",
       "4                                            No data                   \n",
       "\n",
       "  Unnamed: 1_y Alcohol, abstainers past 12 months (%)  \\\n",
       "0         Year                             Both sexes   \n",
       "1         2016                                   99.3   \n",
       "2         2016                                   49.0   \n",
       "3         2016                                   96.8   \n",
       "4         2016                                   25.4   \n",
       "\n",
       "  Alcohol, abstainers past 12 months (%).1  \\\n",
       "0                                     Male   \n",
       "1                                     99.0   \n",
       "2                                     35.0   \n",
       "3                                     95.2   \n",
       "4                                     14.8   \n",
       "\n",
       "  Alcohol, abstainers past 12 months (%).2  \\\n",
       "0                                   Female   \n",
       "1                                     99.7   \n",
       "2                                     62.4   \n",
       "3                                     98.5   \n",
       "4                                     35.7   \n",
       "\n",
       "  Alcohol-attributable fractions (15+), road traffic crash deaths (%)  \\\n",
       "0                                               2016                    \n",
       "1                                                0.7                    \n",
       "2                                               37.9                    \n",
       "3                                                3.1                    \n",
       "4                                            No data                    \n",
       "\n",
       "  Alcohol-attributable fractions (15+), road traffic crash deaths (%).1  \n",
       "0                                               2016                     \n",
       "1                                                0.5                     \n",
       "2                                                 28                     \n",
       "3                                                  2                     \n",
       "4                                            No data                     "
      ]
     },
     "execution_count": 11,
     "metadata": {},
     "output_type": "execute_result"
    }
   ],
   "source": [
    "DF4 = pd.merge(DF2, DF3, left_on='Unnamed: 0', right_on='Unnamed: 0')\n",
    "DF4.head()"
   ]
  },
  {
   "cell_type": "code",
   "execution_count": 12,
   "metadata": {},
   "outputs": [],
   "source": [
    "Final_DF = pd.merge(DF4, DF1, left_on='Unnamed: 0', right_on='Unnamed: 0')"
   ]
  },
  {
   "cell_type": "code",
   "execution_count": 13,
   "metadata": {},
   "outputs": [
    {
     "data": {
      "text/html": [
       "<div>\n",
       "<style scoped>\n",
       "    .dataframe tbody tr th:only-of-type {\n",
       "        vertical-align: middle;\n",
       "    }\n",
       "\n",
       "    .dataframe tbody tr th {\n",
       "        vertical-align: top;\n",
       "    }\n",
       "\n",
       "    .dataframe thead th {\n",
       "        text-align: right;\n",
       "    }\n",
       "</style>\n",
       "<table border=\"1\" class=\"dataframe\">\n",
       "  <thead>\n",
       "    <tr style=\"text-align: right;\">\n",
       "      <th></th>\n",
       "      <th>Unnamed: 0</th>\n",
       "      <th>Unnamed: 1_x_x</th>\n",
       "      <th>Alcohol, heavy episodic drinking (15+), drinkers only, past 30 days (%)</th>\n",
       "      <th>Alcohol, heavy episodic drinking (15+), drinkers only, past 30 days (%).1</th>\n",
       "      <th>Alcohol, heavy episodic drinking (15+), drinkers only, past 30 days (%).2</th>\n",
       "      <th>Alcohol-attributable fractions (15+), liver cirrhosis deaths (%)</th>\n",
       "      <th>Alcohol-attributable fractions (15+), liver cirrhosis deaths (%).1</th>\n",
       "      <th>Unnamed: 1_y_x</th>\n",
       "      <th>Alcohol, abstainers past 12 months (%)</th>\n",
       "      <th>Alcohol, abstainers past 12 months (%).1</th>\n",
       "      <th>...</th>\n",
       "      <th>15-19 years old, current drinkers (%)</th>\n",
       "      <th>15-19 years old, current drinkers (%).1</th>\n",
       "      <th>15-19 years old, current drinkers (%).2</th>\n",
       "      <th>Unnamed: 1_y_y</th>\n",
       "      <th>Age limits off-premise sales</th>\n",
       "      <th>Age limits off-premise sales.1</th>\n",
       "      <th>Age limits off-premise sales.2</th>\n",
       "      <th>Age limits on-premise service</th>\n",
       "      <th>Age limits on-premise service.1</th>\n",
       "      <th>Age limits on-premise service.2</th>\n",
       "    </tr>\n",
       "  </thead>\n",
       "  <tbody>\n",
       "    <tr>\n",
       "      <th>0</th>\n",
       "      <td>Country</td>\n",
       "      <td>Year</td>\n",
       "      <td>Both sexes</td>\n",
       "      <td>Male</td>\n",
       "      <td>Female</td>\n",
       "      <td>2016</td>\n",
       "      <td>2016</td>\n",
       "      <td>Year</td>\n",
       "      <td>Both sexes</td>\n",
       "      <td>Male</td>\n",
       "      <td>...</td>\n",
       "      <td>Both sexes</td>\n",
       "      <td>Male</td>\n",
       "      <td>Female</td>\n",
       "      <td>Year</td>\n",
       "      <td>Beer</td>\n",
       "      <td>Wine</td>\n",
       "      <td>Spirits</td>\n",
       "      <td>Beer</td>\n",
       "      <td>Wine</td>\n",
       "      <td>Spirits</td>\n",
       "    </tr>\n",
       "    <tr>\n",
       "      <th>1</th>\n",
       "      <td>Afghanistan</td>\n",
       "      <td>2016</td>\n",
       "      <td>2</td>\n",
       "      <td>2.3</td>\n",
       "      <td>0.5</td>\n",
       "      <td>5.5</td>\n",
       "      <td>1.1</td>\n",
       "      <td>2016</td>\n",
       "      <td>99.3</td>\n",
       "      <td>99.0</td>\n",
       "      <td>...</td>\n",
       "      <td>0.3 [0.3-0.4]</td>\n",
       "      <td>0.5 [0.4-0.7]</td>\n",
       "      <td>0.1 [0.1-0.2]</td>\n",
       "      <td>2016</td>\n",
       "      <td>Total ban</td>\n",
       "      <td>Total ban</td>\n",
       "      <td>Total ban</td>\n",
       "      <td>Total ban</td>\n",
       "      <td>Total ban</td>\n",
       "      <td>Total ban</td>\n",
       "    </tr>\n",
       "    <tr>\n",
       "      <th>2</th>\n",
       "      <td>Albania</td>\n",
       "      <td>2016</td>\n",
       "      <td>44.7</td>\n",
       "      <td>57.4</td>\n",
       "      <td>23.7</td>\n",
       "      <td>70.3</td>\n",
       "      <td>45.6</td>\n",
       "      <td>2016</td>\n",
       "      <td>49.0</td>\n",
       "      <td>35.0</td>\n",
       "      <td>...</td>\n",
       "      <td>37.7 [34.8-40.5]</td>\n",
       "      <td>50.5 [46-54.9]</td>\n",
       "      <td>24.2 [21.1-27.6]</td>\n",
       "      <td>2016</td>\n",
       "      <td>18</td>\n",
       "      <td>18</td>\n",
       "      <td>18</td>\n",
       "      <td>18</td>\n",
       "      <td>18</td>\n",
       "      <td>18</td>\n",
       "    </tr>\n",
       "    <tr>\n",
       "      <th>3</th>\n",
       "      <td>Algeria</td>\n",
       "      <td>2016</td>\n",
       "      <td>19.3</td>\n",
       "      <td>23.5</td>\n",
       "      <td>6.2</td>\n",
       "      <td>22.7</td>\n",
       "      <td>7</td>\n",
       "      <td>2016</td>\n",
       "      <td>96.8</td>\n",
       "      <td>95.2</td>\n",
       "      <td>...</td>\n",
       "      <td>1.5 [1.3-1.8]</td>\n",
       "      <td>2.3 [1.9-2.8]</td>\n",
       "      <td>0.7 [0.6-0.9]</td>\n",
       "      <td>2016</td>\n",
       "      <td>18</td>\n",
       "      <td>18</td>\n",
       "      <td>18</td>\n",
       "      <td>18</td>\n",
       "      <td>18</td>\n",
       "      <td>18</td>\n",
       "    </tr>\n",
       "    <tr>\n",
       "      <th>4</th>\n",
       "      <td>Andorra</td>\n",
       "      <td>2016</td>\n",
       "      <td>40.5</td>\n",
       "      <td>55</td>\n",
       "      <td>21.7</td>\n",
       "      <td>No data</td>\n",
       "      <td>No data</td>\n",
       "      <td>2016</td>\n",
       "      <td>25.4</td>\n",
       "      <td>14.8</td>\n",
       "      <td>...</td>\n",
       "      <td>64.2 [-]</td>\n",
       "      <td>76.6 [-]</td>\n",
       "      <td>50.7 [-]</td>\n",
       "      <td>2016</td>\n",
       "      <td>18</td>\n",
       "      <td>18</td>\n",
       "      <td>18</td>\n",
       "      <td>18</td>\n",
       "      <td>18</td>\n",
       "      <td>18</td>\n",
       "    </tr>\n",
       "  </tbody>\n",
       "</table>\n",
       "<p>5 rows × 24 columns</p>\n",
       "</div>"
      ],
      "text/plain": [
       "    Unnamed: 0 Unnamed: 1_x_x  \\\n",
       "0      Country           Year   \n",
       "1  Afghanistan           2016   \n",
       "2      Albania           2016   \n",
       "3      Algeria           2016   \n",
       "4      Andorra           2016   \n",
       "\n",
       "  Alcohol, heavy episodic drinking (15+), drinkers only, past 30 days (%)  \\\n",
       "0                                         Both sexes                        \n",
       "1                                                  2                        \n",
       "2                                               44.7                        \n",
       "3                                               19.3                        \n",
       "4                                               40.5                        \n",
       "\n",
       "  Alcohol, heavy episodic drinking (15+), drinkers only, past 30 days (%).1  \\\n",
       "0                                               Male                          \n",
       "1                                                2.3                          \n",
       "2                                               57.4                          \n",
       "3                                               23.5                          \n",
       "4                                                 55                          \n",
       "\n",
       "  Alcohol, heavy episodic drinking (15+), drinkers only, past 30 days (%).2  \\\n",
       "0                                             Female                          \n",
       "1                                                0.5                          \n",
       "2                                               23.7                          \n",
       "3                                                6.2                          \n",
       "4                                               21.7                          \n",
       "\n",
       "  Alcohol-attributable fractions (15+), liver cirrhosis deaths (%)  \\\n",
       "0                                               2016                 \n",
       "1                                                5.5                 \n",
       "2                                               70.3                 \n",
       "3                                               22.7                 \n",
       "4                                            No data                 \n",
       "\n",
       "  Alcohol-attributable fractions (15+), liver cirrhosis deaths (%).1  \\\n",
       "0                                               2016                   \n",
       "1                                                1.1                   \n",
       "2                                               45.6                   \n",
       "3                                                  7                   \n",
       "4                                            No data                   \n",
       "\n",
       "  Unnamed: 1_y_x Alcohol, abstainers past 12 months (%)  \\\n",
       "0           Year                             Both sexes   \n",
       "1           2016                                   99.3   \n",
       "2           2016                                   49.0   \n",
       "3           2016                                   96.8   \n",
       "4           2016                                   25.4   \n",
       "\n",
       "  Alcohol, abstainers past 12 months (%).1  ...  \\\n",
       "0                                     Male  ...   \n",
       "1                                     99.0  ...   \n",
       "2                                     35.0  ...   \n",
       "3                                     95.2  ...   \n",
       "4                                     14.8  ...   \n",
       "\n",
       "  15-19 years old, current drinkers (%)  \\\n",
       "0                            Both sexes   \n",
       "1                         0.3 [0.3-0.4]   \n",
       "2                      37.7 [34.8-40.5]   \n",
       "3                         1.5 [1.3-1.8]   \n",
       "4                              64.2 [-]   \n",
       "\n",
       "  15-19 years old, current drinkers (%).1  \\\n",
       "0                                    Male   \n",
       "1                           0.5 [0.4-0.7]   \n",
       "2                          50.5 [46-54.9]   \n",
       "3                           2.3 [1.9-2.8]   \n",
       "4                                76.6 [-]   \n",
       "\n",
       "  15-19 years old, current drinkers (%).2 Unnamed: 1_y_y  \\\n",
       "0                                  Female           Year   \n",
       "1                           0.1 [0.1-0.2]           2016   \n",
       "2                        24.2 [21.1-27.6]           2016   \n",
       "3                           0.7 [0.6-0.9]           2016   \n",
       "4                                50.7 [-]           2016   \n",
       "\n",
       "  Age limits off-premise sales Age limits off-premise sales.1  \\\n",
       "0                         Beer                           Wine   \n",
       "1                    Total ban                      Total ban   \n",
       "2                           18                             18   \n",
       "3                           18                             18   \n",
       "4                           18                             18   \n",
       "\n",
       "  Age limits off-premise sales.2 Age limits on-premise service  \\\n",
       "0                        Spirits                          Beer   \n",
       "1                      Total ban                     Total ban   \n",
       "2                             18                            18   \n",
       "3                             18                            18   \n",
       "4                             18                            18   \n",
       "\n",
       "  Age limits on-premise service.1 Age limits on-premise service.2  \n",
       "0                            Wine                         Spirits  \n",
       "1                       Total ban                       Total ban  \n",
       "2                              18                              18  \n",
       "3                              18                              18  \n",
       "4                              18                              18  \n",
       "\n",
       "[5 rows x 24 columns]"
      ]
     },
     "execution_count": 13,
     "metadata": {},
     "output_type": "execute_result"
    }
   ],
   "source": [
    "Final_DF.head()"
   ]
  },
  {
   "cell_type": "code",
   "execution_count": 14,
   "metadata": {},
   "outputs": [
    {
     "data": {
      "text/html": [
       "<div>\n",
       "<style scoped>\n",
       "    .dataframe tbody tr th:only-of-type {\n",
       "        vertical-align: middle;\n",
       "    }\n",
       "\n",
       "    .dataframe tbody tr th {\n",
       "        vertical-align: top;\n",
       "    }\n",
       "\n",
       "    .dataframe thead th {\n",
       "        text-align: right;\n",
       "    }\n",
       "</style>\n",
       "<table border=\"1\" class=\"dataframe\">\n",
       "  <thead>\n",
       "    <tr style=\"text-align: right;\">\n",
       "      <th></th>\n",
       "      <th>Unnamed: 0</th>\n",
       "      <th>Unnamed: 1_x_x</th>\n",
       "      <th>Alcohol, heavy episodic drinking (15+), drinkers only, past 30 days (%)</th>\n",
       "      <th>Alcohol, heavy episodic drinking (15+), drinkers only, past 30 days (%).1</th>\n",
       "      <th>Alcohol, heavy episodic drinking (15+), drinkers only, past 30 days (%).2</th>\n",
       "      <th>Alcohol-attributable fractions (15+), liver cirrhosis deaths (%)</th>\n",
       "      <th>Alcohol-attributable fractions (15+), liver cirrhosis deaths (%).1</th>\n",
       "      <th>Unnamed: 1_y_x</th>\n",
       "      <th>Alcohol, abstainers past 12 months (%)</th>\n",
       "      <th>Alcohol, abstainers past 12 months (%).1</th>\n",
       "      <th>...</th>\n",
       "      <th>15-19 years old, current drinkers (%)</th>\n",
       "      <th>15-19 years old, current drinkers (%).1</th>\n",
       "      <th>15-19 years old, current drinkers (%).2</th>\n",
       "      <th>Unnamed: 1_y_y</th>\n",
       "      <th>Age limits off-premise sales</th>\n",
       "      <th>Age limits off-premise sales.1</th>\n",
       "      <th>Age limits off-premise sales.2</th>\n",
       "      <th>Age limits on-premise service</th>\n",
       "      <th>Age limits on-premise service.1</th>\n",
       "      <th>Age limits on-premise service.2</th>\n",
       "    </tr>\n",
       "  </thead>\n",
       "  <tbody>\n",
       "    <tr>\n",
       "      <th>count</th>\n",
       "      <td>190</td>\n",
       "      <td>190</td>\n",
       "      <td>190</td>\n",
       "      <td>190</td>\n",
       "      <td>190</td>\n",
       "      <td>190</td>\n",
       "      <td>190</td>\n",
       "      <td>190</td>\n",
       "      <td>190</td>\n",
       "      <td>190</td>\n",
       "      <td>...</td>\n",
       "      <td>190</td>\n",
       "      <td>190</td>\n",
       "      <td>190</td>\n",
       "      <td>190</td>\n",
       "      <td>190</td>\n",
       "      <td>190</td>\n",
       "      <td>190</td>\n",
       "      <td>190</td>\n",
       "      <td>190</td>\n",
       "      <td>190</td>\n",
       "    </tr>\n",
       "    <tr>\n",
       "      <th>unique</th>\n",
       "      <td>190</td>\n",
       "      <td>2</td>\n",
       "      <td>150</td>\n",
       "      <td>155</td>\n",
       "      <td>146</td>\n",
       "      <td>161</td>\n",
       "      <td>160</td>\n",
       "      <td>2</td>\n",
       "      <td>171</td>\n",
       "      <td>175</td>\n",
       "      <td>...</td>\n",
       "      <td>186</td>\n",
       "      <td>187</td>\n",
       "      <td>182</td>\n",
       "      <td>2</td>\n",
       "      <td>15</td>\n",
       "      <td>15</td>\n",
       "      <td>14</td>\n",
       "      <td>17</td>\n",
       "      <td>17</td>\n",
       "      <td>16</td>\n",
       "    </tr>\n",
       "    <tr>\n",
       "      <th>top</th>\n",
       "      <td>Niue</td>\n",
       "      <td>2016</td>\n",
       "      <td>37.3</td>\n",
       "      <td>62.2</td>\n",
       "      <td>0.5</td>\n",
       "      <td>No data</td>\n",
       "      <td>No data</td>\n",
       "      <td>2016</td>\n",
       "      <td>99.3</td>\n",
       "      <td>20.1</td>\n",
       "      <td>...</td>\n",
       "      <td>0.3 [0.3-0.4]</td>\n",
       "      <td>0.5 [0.4-0.7]</td>\n",
       "      <td>0.7 [0.6-0.9]</td>\n",
       "      <td>2016</td>\n",
       "      <td>18</td>\n",
       "      <td>18</td>\n",
       "      <td>18</td>\n",
       "      <td>18</td>\n",
       "      <td>18</td>\n",
       "      <td>18</td>\n",
       "    </tr>\n",
       "    <tr>\n",
       "      <th>freq</th>\n",
       "      <td>1</td>\n",
       "      <td>189</td>\n",
       "      <td>4</td>\n",
       "      <td>3</td>\n",
       "      <td>3</td>\n",
       "      <td>7</td>\n",
       "      <td>7</td>\n",
       "      <td>189</td>\n",
       "      <td>3</td>\n",
       "      <td>2</td>\n",
       "      <td>...</td>\n",
       "      <td>3</td>\n",
       "      <td>3</td>\n",
       "      <td>3</td>\n",
       "      <td>189</td>\n",
       "      <td>107</td>\n",
       "      <td>107</td>\n",
       "      <td>108</td>\n",
       "      <td>106</td>\n",
       "      <td>106</td>\n",
       "      <td>109</td>\n",
       "    </tr>\n",
       "  </tbody>\n",
       "</table>\n",
       "<p>4 rows × 24 columns</p>\n",
       "</div>"
      ],
      "text/plain": [
       "       Unnamed: 0 Unnamed: 1_x_x  \\\n",
       "count         190            190   \n",
       "unique        190              2   \n",
       "top          Niue           2016   \n",
       "freq            1            189   \n",
       "\n",
       "       Alcohol, heavy episodic drinking (15+), drinkers only, past 30 days (%)  \\\n",
       "count                                                 190                        \n",
       "unique                                                150                        \n",
       "top                                                  37.3                        \n",
       "freq                                                    4                        \n",
       "\n",
       "       Alcohol, heavy episodic drinking (15+), drinkers only, past 30 days (%).1  \\\n",
       "count                                                 190                          \n",
       "unique                                                155                          \n",
       "top                                                  62.2                          \n",
       "freq                                                    3                          \n",
       "\n",
       "       Alcohol, heavy episodic drinking (15+), drinkers only, past 30 days (%).2  \\\n",
       "count                                                 190                          \n",
       "unique                                                146                          \n",
       "top                                                   0.5                          \n",
       "freq                                                    3                          \n",
       "\n",
       "       Alcohol-attributable fractions (15+), liver cirrhosis deaths (%)  \\\n",
       "count                                                 190                 \n",
       "unique                                                161                 \n",
       "top                                               No data                 \n",
       "freq                                                    7                 \n",
       "\n",
       "       Alcohol-attributable fractions (15+), liver cirrhosis deaths (%).1  \\\n",
       "count                                                 190                   \n",
       "unique                                                160                   \n",
       "top                                               No data                   \n",
       "freq                                                    7                   \n",
       "\n",
       "       Unnamed: 1_y_x Alcohol, abstainers past 12 months (%)  \\\n",
       "count             190                                    190   \n",
       "unique              2                                    171   \n",
       "top              2016                                   99.3   \n",
       "freq              189                                      3   \n",
       "\n",
       "       Alcohol, abstainers past 12 months (%).1  ...  \\\n",
       "count                                       190  ...   \n",
       "unique                                      175  ...   \n",
       "top                                        20.1  ...   \n",
       "freq                                          2  ...   \n",
       "\n",
       "       15-19 years old, current drinkers (%)  \\\n",
       "count                                    190   \n",
       "unique                                   186   \n",
       "top                            0.3 [0.3-0.4]   \n",
       "freq                                       3   \n",
       "\n",
       "       15-19 years old, current drinkers (%).1  \\\n",
       "count                                      190   \n",
       "unique                                     187   \n",
       "top                              0.5 [0.4-0.7]   \n",
       "freq                                         3   \n",
       "\n",
       "       15-19 years old, current drinkers (%).2 Unnamed: 1_y_y  \\\n",
       "count                                      190            190   \n",
       "unique                                     182              2   \n",
       "top                              0.7 [0.6-0.9]           2016   \n",
       "freq                                         3            189   \n",
       "\n",
       "       Age limits off-premise sales Age limits off-premise sales.1  \\\n",
       "count                           190                            190   \n",
       "unique                           15                             15   \n",
       "top                              18                             18   \n",
       "freq                            107                            107   \n",
       "\n",
       "       Age limits off-premise sales.2 Age limits on-premise service  \\\n",
       "count                             190                           190   \n",
       "unique                             14                            17   \n",
       "top                                18                            18   \n",
       "freq                              108                           106   \n",
       "\n",
       "       Age limits on-premise service.1 Age limits on-premise service.2  \n",
       "count                              190                             190  \n",
       "unique                              17                              16  \n",
       "top                                 18                              18  \n",
       "freq                               106                             109  \n",
       "\n",
       "[4 rows x 24 columns]"
      ]
     },
     "execution_count": 14,
     "metadata": {},
     "output_type": "execute_result"
    }
   ],
   "source": [
    "Final_DF.describe()"
   ]
  },
  {
   "cell_type": "markdown",
   "metadata": {},
   "source": [
    "<font size='50'> Cleaning up Data </font>"
   ]
  },
  {
   "cell_type": "code",
   "execution_count": 15,
   "metadata": {},
   "outputs": [
    {
     "name": "stdout",
     "output_type": "stream",
     "text": [
      "<class 'pandas.core.frame.DataFrame'>\n",
      "Int64Index: 190 entries, 0 to 189\n",
      "Data columns (total 24 columns):\n",
      " #   Column                                                                     Non-Null Count  Dtype \n",
      "---  ------                                                                     --------------  ----- \n",
      " 0   Unnamed: 0                                                                 190 non-null    object\n",
      " 1   Unnamed: 1_x_x                                                             190 non-null    object\n",
      " 2   Alcohol, heavy episodic drinking (15+), drinkers only, past 30 days (%)    190 non-null    object\n",
      " 3   Alcohol, heavy episodic drinking (15+), drinkers only, past 30 days (%).1  190 non-null    object\n",
      " 4   Alcohol, heavy episodic drinking (15+), drinkers only, past 30 days (%).2  190 non-null    object\n",
      " 5   Alcohol-attributable fractions (15+), liver cirrhosis deaths (%)           190 non-null    object\n",
      " 6   Alcohol-attributable fractions (15+), liver cirrhosis deaths (%).1         190 non-null    object\n",
      " 7   Unnamed: 1_y_x                                                             190 non-null    object\n",
      " 8   Alcohol, abstainers past 12 months (%)                                     190 non-null    object\n",
      " 9   Alcohol, abstainers past 12 months (%).1                                   190 non-null    object\n",
      " 10  Alcohol, abstainers past 12 months (%).2                                   190 non-null    object\n",
      " 11  Alcohol-attributable fractions (15+), road traffic crash deaths (%)        190 non-null    object\n",
      " 12  Alcohol-attributable fractions (15+), road traffic crash deaths (%).1      190 non-null    object\n",
      " 13  Unnamed: 1_x_y                                                             190 non-null    object\n",
      " 14  15-19 years old, current drinkers (%)                                      190 non-null    object\n",
      " 15  15-19 years old, current drinkers (%).1                                    190 non-null    object\n",
      " 16  15-19 years old, current drinkers (%).2                                    190 non-null    object\n",
      " 17  Unnamed: 1_y_y                                                             190 non-null    object\n",
      " 18  Age limits off-premise sales                                               190 non-null    object\n",
      " 19  Age limits off-premise sales.1                                             190 non-null    object\n",
      " 20  Age limits off-premise sales.2                                             190 non-null    object\n",
      " 21  Age limits on-premise service                                              190 non-null    object\n",
      " 22  Age limits on-premise service.1                                            190 non-null    object\n",
      " 23  Age limits on-premise service.2                                            190 non-null    object\n",
      "dtypes: object(24)\n",
      "memory usage: 37.1+ KB\n"
     ]
    }
   ],
   "source": [
    "Final_DF.info()"
   ]
  },
  {
   "cell_type": "code",
   "execution_count": 16,
   "metadata": {},
   "outputs": [],
   "source": [
    "#Time to start modifying the dataframe \n",
    "Final_DF.set_index('Unnamed: 0', inplace=True)"
   ]
  },
  {
   "cell_type": "code",
   "execution_count": 17,
   "metadata": {},
   "outputs": [
    {
     "data": {
      "text/plain": [
       "Index(['Unnamed: 1_x_x',\n",
       "       'Alcohol, heavy episodic drinking (15+), drinkers only, past 30 days (%)',\n",
       "       'Alcohol, heavy episodic drinking (15+), drinkers only, past 30 days (%).1',\n",
       "       'Alcohol, heavy episodic drinking (15+), drinkers only, past 30 days (%).2',\n",
       "       'Alcohol-attributable fractions (15+), liver cirrhosis deaths (%)',\n",
       "       'Alcohol-attributable fractions (15+), liver cirrhosis deaths (%).1',\n",
       "       'Unnamed: 1_y_x', 'Alcohol, abstainers past 12 months (%)',\n",
       "       'Alcohol, abstainers past 12 months (%).1',\n",
       "       'Alcohol, abstainers past 12 months (%).2',\n",
       "       'Alcohol-attributable fractions (15+), road traffic crash deaths (%)',\n",
       "       'Alcohol-attributable fractions (15+), road traffic crash deaths (%).1',\n",
       "       'Unnamed: 1_x_y', '15-19 years old, current drinkers (%)',\n",
       "       '15-19 years old, current drinkers (%).1',\n",
       "       '15-19 years old, current drinkers (%).2', 'Unnamed: 1_y_y',\n",
       "       'Age limits off-premise sales', 'Age limits off-premise sales.1',\n",
       "       'Age limits off-premise sales.2', 'Age limits on-premise service',\n",
       "       'Age limits on-premise service.1', 'Age limits on-premise service.2'],\n",
       "      dtype='object')"
      ]
     },
     "execution_count": 17,
     "metadata": {},
     "output_type": "execute_result"
    }
   ],
   "source": [
    "#Changing some column names\n",
    "Final_DF.columns"
   ]
  },
  {
   "cell_type": "code",
   "execution_count": 18,
   "metadata": {},
   "outputs": [
    {
     "data": {
      "text/plain": [
       "Unnamed: 1_x_x                                                               0\n",
       "Alcohol, heavy episodic drinking (15+), drinkers only, past 30 days (%)      0\n",
       "Alcohol, heavy episodic drinking (15+), drinkers only, past 30 days (%).1    0\n",
       "Alcohol, heavy episodic drinking (15+), drinkers only, past 30 days (%).2    0\n",
       "Alcohol-attributable fractions (15+), liver cirrhosis deaths (%)             0\n",
       "Alcohol-attributable fractions (15+), liver cirrhosis deaths (%).1           0\n",
       "Unnamed: 1_y_x                                                               0\n",
       "Alcohol, abstainers past 12 months (%)                                       0\n",
       "Alcohol, abstainers past 12 months (%).1                                     0\n",
       "Alcohol, abstainers past 12 months (%).2                                     0\n",
       "Alcohol-attributable fractions (15+), road traffic crash deaths (%)          0\n",
       "Alcohol-attributable fractions (15+), road traffic crash deaths (%).1        0\n",
       "Unnamed: 1_x_y                                                               0\n",
       "15-19 years old, current drinkers (%)                                        0\n",
       "15-19 years old, current drinkers (%).1                                      0\n",
       "15-19 years old, current drinkers (%).2                                      0\n",
       "Unnamed: 1_y_y                                                               0\n",
       "Age limits off-premise sales                                                 0\n",
       "Age limits off-premise sales.1                                               0\n",
       "Age limits off-premise sales.2                                               0\n",
       "Age limits on-premise service                                                0\n",
       "Age limits on-premise service.1                                              0\n",
       "Age limits on-premise service.2                                              0\n",
       "dtype: int64"
      ]
     },
     "execution_count": 18,
     "metadata": {},
     "output_type": "execute_result"
    }
   ],
   "source": [
    "#Are there any null values?\n",
    "Final_DF.isnull().sum()"
   ]
  },
  {
   "cell_type": "code",
   "execution_count": 19,
   "metadata": {},
   "outputs": [],
   "source": [
    "Final_DF.drop(['Unnamed: 1_y_x','Unnamed: 1_x_y', 'Unnamed: 1_y_y'], axis=1, inplace=True)"
   ]
  },
  {
   "cell_type": "code",
   "execution_count": 20,
   "metadata": {},
   "outputs": [
    {
     "data": {
      "text/html": [
       "<div>\n",
       "<style scoped>\n",
       "    .dataframe tbody tr th:only-of-type {\n",
       "        vertical-align: middle;\n",
       "    }\n",
       "\n",
       "    .dataframe tbody tr th {\n",
       "        vertical-align: top;\n",
       "    }\n",
       "\n",
       "    .dataframe thead th {\n",
       "        text-align: right;\n",
       "    }\n",
       "</style>\n",
       "<table border=\"1\" class=\"dataframe\">\n",
       "  <thead>\n",
       "    <tr style=\"text-align: right;\">\n",
       "      <th></th>\n",
       "      <th>Unnamed: 1_x_x</th>\n",
       "      <th>Alcohol, heavy episodic drinking (15+), drinkers only, past 30 days (%)</th>\n",
       "      <th>Alcohol, heavy episodic drinking (15+), drinkers only, past 30 days (%).1</th>\n",
       "      <th>Alcohol, heavy episodic drinking (15+), drinkers only, past 30 days (%).2</th>\n",
       "      <th>Alcohol-attributable fractions (15+), liver cirrhosis deaths (%)</th>\n",
       "      <th>Alcohol-attributable fractions (15+), liver cirrhosis deaths (%).1</th>\n",
       "      <th>Alcohol, abstainers past 12 months (%)</th>\n",
       "      <th>Alcohol, abstainers past 12 months (%).1</th>\n",
       "      <th>Alcohol, abstainers past 12 months (%).2</th>\n",
       "      <th>Alcohol-attributable fractions (15+), road traffic crash deaths (%)</th>\n",
       "      <th>Alcohol-attributable fractions (15+), road traffic crash deaths (%).1</th>\n",
       "      <th>15-19 years old, current drinkers (%)</th>\n",
       "      <th>15-19 years old, current drinkers (%).1</th>\n",
       "      <th>15-19 years old, current drinkers (%).2</th>\n",
       "      <th>Age limits off-premise sales</th>\n",
       "      <th>Age limits off-premise sales.1</th>\n",
       "      <th>Age limits off-premise sales.2</th>\n",
       "      <th>Age limits on-premise service</th>\n",
       "      <th>Age limits on-premise service.1</th>\n",
       "      <th>Age limits on-premise service.2</th>\n",
       "    </tr>\n",
       "    <tr>\n",
       "      <th>Unnamed: 0</th>\n",
       "      <th></th>\n",
       "      <th></th>\n",
       "      <th></th>\n",
       "      <th></th>\n",
       "      <th></th>\n",
       "      <th></th>\n",
       "      <th></th>\n",
       "      <th></th>\n",
       "      <th></th>\n",
       "      <th></th>\n",
       "      <th></th>\n",
       "      <th></th>\n",
       "      <th></th>\n",
       "      <th></th>\n",
       "      <th></th>\n",
       "      <th></th>\n",
       "      <th></th>\n",
       "      <th></th>\n",
       "      <th></th>\n",
       "      <th></th>\n",
       "    </tr>\n",
       "  </thead>\n",
       "  <tbody>\n",
       "    <tr>\n",
       "      <th>Country</th>\n",
       "      <td>Year</td>\n",
       "      <td>Both sexes</td>\n",
       "      <td>Male</td>\n",
       "      <td>Female</td>\n",
       "      <td>2016</td>\n",
       "      <td>2016</td>\n",
       "      <td>Both sexes</td>\n",
       "      <td>Male</td>\n",
       "      <td>Female</td>\n",
       "      <td>2016</td>\n",
       "      <td>2016</td>\n",
       "      <td>Both sexes</td>\n",
       "      <td>Male</td>\n",
       "      <td>Female</td>\n",
       "      <td>Beer</td>\n",
       "      <td>Wine</td>\n",
       "      <td>Spirits</td>\n",
       "      <td>Beer</td>\n",
       "      <td>Wine</td>\n",
       "      <td>Spirits</td>\n",
       "    </tr>\n",
       "    <tr>\n",
       "      <th>Afghanistan</th>\n",
       "      <td>2016</td>\n",
       "      <td>2</td>\n",
       "      <td>2.3</td>\n",
       "      <td>0.5</td>\n",
       "      <td>5.5</td>\n",
       "      <td>1.1</td>\n",
       "      <td>99.3</td>\n",
       "      <td>99.0</td>\n",
       "      <td>99.7</td>\n",
       "      <td>0.7</td>\n",
       "      <td>0.5</td>\n",
       "      <td>0.3 [0.3-0.4]</td>\n",
       "      <td>0.5 [0.4-0.7]</td>\n",
       "      <td>0.1 [0.1-0.2]</td>\n",
       "      <td>Total ban</td>\n",
       "      <td>Total ban</td>\n",
       "      <td>Total ban</td>\n",
       "      <td>Total ban</td>\n",
       "      <td>Total ban</td>\n",
       "      <td>Total ban</td>\n",
       "    </tr>\n",
       "    <tr>\n",
       "      <th>Albania</th>\n",
       "      <td>2016</td>\n",
       "      <td>44.7</td>\n",
       "      <td>57.4</td>\n",
       "      <td>23.7</td>\n",
       "      <td>70.3</td>\n",
       "      <td>45.6</td>\n",
       "      <td>49.0</td>\n",
       "      <td>35.0</td>\n",
       "      <td>62.4</td>\n",
       "      <td>37.9</td>\n",
       "      <td>28</td>\n",
       "      <td>37.7 [34.8-40.5]</td>\n",
       "      <td>50.5 [46-54.9]</td>\n",
       "      <td>24.2 [21.1-27.6]</td>\n",
       "      <td>18</td>\n",
       "      <td>18</td>\n",
       "      <td>18</td>\n",
       "      <td>18</td>\n",
       "      <td>18</td>\n",
       "      <td>18</td>\n",
       "    </tr>\n",
       "    <tr>\n",
       "      <th>Algeria</th>\n",
       "      <td>2016</td>\n",
       "      <td>19.3</td>\n",
       "      <td>23.5</td>\n",
       "      <td>6.2</td>\n",
       "      <td>22.7</td>\n",
       "      <td>7</td>\n",
       "      <td>96.8</td>\n",
       "      <td>95.2</td>\n",
       "      <td>98.5</td>\n",
       "      <td>3.1</td>\n",
       "      <td>2</td>\n",
       "      <td>1.5 [1.3-1.8]</td>\n",
       "      <td>2.3 [1.9-2.8]</td>\n",
       "      <td>0.7 [0.6-0.9]</td>\n",
       "      <td>18</td>\n",
       "      <td>18</td>\n",
       "      <td>18</td>\n",
       "      <td>18</td>\n",
       "      <td>18</td>\n",
       "      <td>18</td>\n",
       "    </tr>\n",
       "    <tr>\n",
       "      <th>Andorra</th>\n",
       "      <td>2016</td>\n",
       "      <td>40.5</td>\n",
       "      <td>55</td>\n",
       "      <td>21.7</td>\n",
       "      <td>No data</td>\n",
       "      <td>No data</td>\n",
       "      <td>25.4</td>\n",
       "      <td>14.8</td>\n",
       "      <td>35.7</td>\n",
       "      <td>No data</td>\n",
       "      <td>No data</td>\n",
       "      <td>64.2 [-]</td>\n",
       "      <td>76.6 [-]</td>\n",
       "      <td>50.7 [-]</td>\n",
       "      <td>18</td>\n",
       "      <td>18</td>\n",
       "      <td>18</td>\n",
       "      <td>18</td>\n",
       "      <td>18</td>\n",
       "      <td>18</td>\n",
       "    </tr>\n",
       "  </tbody>\n",
       "</table>\n",
       "</div>"
      ],
      "text/plain": [
       "            Unnamed: 1_x_x  \\\n",
       "Unnamed: 0                   \n",
       "Country               Year   \n",
       "Afghanistan           2016   \n",
       "Albania               2016   \n",
       "Algeria               2016   \n",
       "Andorra               2016   \n",
       "\n",
       "            Alcohol, heavy episodic drinking (15+), drinkers only, past 30 days (%)  \\\n",
       "Unnamed: 0                                                                            \n",
       "Country                                             Both sexes                        \n",
       "Afghanistan                                                  2                        \n",
       "Albania                                                   44.7                        \n",
       "Algeria                                                   19.3                        \n",
       "Andorra                                                   40.5                        \n",
       "\n",
       "            Alcohol, heavy episodic drinking (15+), drinkers only, past 30 days (%).1  \\\n",
       "Unnamed: 0                                                                              \n",
       "Country                                                   Male                          \n",
       "Afghanistan                                                2.3                          \n",
       "Albania                                                   57.4                          \n",
       "Algeria                                                   23.5                          \n",
       "Andorra                                                     55                          \n",
       "\n",
       "            Alcohol, heavy episodic drinking (15+), drinkers only, past 30 days (%).2  \\\n",
       "Unnamed: 0                                                                              \n",
       "Country                                                 Female                          \n",
       "Afghanistan                                                0.5                          \n",
       "Albania                                                   23.7                          \n",
       "Algeria                                                    6.2                          \n",
       "Andorra                                                   21.7                          \n",
       "\n",
       "            Alcohol-attributable fractions (15+), liver cirrhosis deaths (%)  \\\n",
       "Unnamed: 0                                                                     \n",
       "Country                                                   2016                 \n",
       "Afghanistan                                                5.5                 \n",
       "Albania                                                   70.3                 \n",
       "Algeria                                                   22.7                 \n",
       "Andorra                                                No data                 \n",
       "\n",
       "            Alcohol-attributable fractions (15+), liver cirrhosis deaths (%).1  \\\n",
       "Unnamed: 0                                                                       \n",
       "Country                                                   2016                   \n",
       "Afghanistan                                                1.1                   \n",
       "Albania                                                   45.6                   \n",
       "Algeria                                                      7                   \n",
       "Andorra                                                No data                   \n",
       "\n",
       "            Alcohol, abstainers past 12 months (%)  \\\n",
       "Unnamed: 0                                           \n",
       "Country                                 Both sexes   \n",
       "Afghanistan                                   99.3   \n",
       "Albania                                       49.0   \n",
       "Algeria                                       96.8   \n",
       "Andorra                                       25.4   \n",
       "\n",
       "            Alcohol, abstainers past 12 months (%).1  \\\n",
       "Unnamed: 0                                             \n",
       "Country                                         Male   \n",
       "Afghanistan                                     99.0   \n",
       "Albania                                         35.0   \n",
       "Algeria                                         95.2   \n",
       "Andorra                                         14.8   \n",
       "\n",
       "            Alcohol, abstainers past 12 months (%).2  \\\n",
       "Unnamed: 0                                             \n",
       "Country                                       Female   \n",
       "Afghanistan                                     99.7   \n",
       "Albania                                         62.4   \n",
       "Algeria                                         98.5   \n",
       "Andorra                                         35.7   \n",
       "\n",
       "            Alcohol-attributable fractions (15+), road traffic crash deaths (%)  \\\n",
       "Unnamed: 0                                                                        \n",
       "Country                                                   2016                    \n",
       "Afghanistan                                                0.7                    \n",
       "Albania                                                   37.9                    \n",
       "Algeria                                                    3.1                    \n",
       "Andorra                                                No data                    \n",
       "\n",
       "            Alcohol-attributable fractions (15+), road traffic crash deaths (%).1  \\\n",
       "Unnamed: 0                                                                          \n",
       "Country                                                   2016                      \n",
       "Afghanistan                                                0.5                      \n",
       "Albania                                                     28                      \n",
       "Algeria                                                      2                      \n",
       "Andorra                                                No data                      \n",
       "\n",
       "            15-19 years old, current drinkers (%)  \\\n",
       "Unnamed: 0                                          \n",
       "Country                                Both sexes   \n",
       "Afghanistan                         0.3 [0.3-0.4]   \n",
       "Albania                          37.7 [34.8-40.5]   \n",
       "Algeria                             1.5 [1.3-1.8]   \n",
       "Andorra                                  64.2 [-]   \n",
       "\n",
       "            15-19 years old, current drinkers (%).1  \\\n",
       "Unnamed: 0                                            \n",
       "Country                                        Male   \n",
       "Afghanistan                           0.5 [0.4-0.7]   \n",
       "Albania                              50.5 [46-54.9]   \n",
       "Algeria                               2.3 [1.9-2.8]   \n",
       "Andorra                                    76.6 [-]   \n",
       "\n",
       "            15-19 years old, current drinkers (%).2  \\\n",
       "Unnamed: 0                                            \n",
       "Country                                      Female   \n",
       "Afghanistan                           0.1 [0.1-0.2]   \n",
       "Albania                            24.2 [21.1-27.6]   \n",
       "Algeria                               0.7 [0.6-0.9]   \n",
       "Andorra                                    50.7 [-]   \n",
       "\n",
       "            Age limits off-premise sales Age limits off-premise sales.1  \\\n",
       "Unnamed: 0                                                                \n",
       "Country                             Beer                           Wine   \n",
       "Afghanistan                    Total ban                      Total ban   \n",
       "Albania                               18                             18   \n",
       "Algeria                               18                             18   \n",
       "Andorra                               18                             18   \n",
       "\n",
       "            Age limits off-premise sales.2 Age limits on-premise service  \\\n",
       "Unnamed: 0                                                                 \n",
       "Country                            Spirits                          Beer   \n",
       "Afghanistan                      Total ban                     Total ban   \n",
       "Albania                                 18                            18   \n",
       "Algeria                                 18                            18   \n",
       "Andorra                                 18                            18   \n",
       "\n",
       "            Age limits on-premise service.1 Age limits on-premise service.2  \n",
       "Unnamed: 0                                                                   \n",
       "Country                                Wine                         Spirits  \n",
       "Afghanistan                       Total ban                       Total ban  \n",
       "Albania                                  18                              18  \n",
       "Algeria                                  18                              18  \n",
       "Andorra                                  18                              18  "
      ]
     },
     "execution_count": 20,
     "metadata": {},
     "output_type": "execute_result"
    }
   ],
   "source": [
    "Final_DF.head()"
   ]
  },
  {
   "cell_type": "code",
   "execution_count": 21,
   "metadata": {},
   "outputs": [
    {
     "data": {
      "text/plain": [
       "Index(['Unnamed: 1_x_x',\n",
       "       'Alcohol, heavy episodic drinking (15+), drinkers only, past 30 days (%)',\n",
       "       'Alcohol, heavy episodic drinking (15+), drinkers only, past 30 days (%).1',\n",
       "       'Alcohol, heavy episodic drinking (15+), drinkers only, past 30 days (%).2',\n",
       "       'Alcohol-attributable fractions (15+), liver cirrhosis deaths (%)',\n",
       "       'Alcohol-attributable fractions (15+), liver cirrhosis deaths (%).1',\n",
       "       'Alcohol, abstainers past 12 months (%)',\n",
       "       'Alcohol, abstainers past 12 months (%).1',\n",
       "       'Alcohol, abstainers past 12 months (%).2',\n",
       "       'Alcohol-attributable fractions (15+), road traffic crash deaths (%)',\n",
       "       'Alcohol-attributable fractions (15+), road traffic crash deaths (%).1',\n",
       "       '15-19 years old, current drinkers (%)',\n",
       "       '15-19 years old, current drinkers (%).1',\n",
       "       '15-19 years old, current drinkers (%).2',\n",
       "       'Age limits off-premise sales', 'Age limits off-premise sales.1',\n",
       "       'Age limits off-premise sales.2', 'Age limits on-premise service',\n",
       "       'Age limits on-premise service.1', 'Age limits on-premise service.2'],\n",
       "      dtype='object')"
      ]
     },
     "execution_count": 21,
     "metadata": {},
     "output_type": "execute_result"
    }
   ],
   "source": [
    "Final_DF.columns"
   ]
  },
  {
   "cell_type": "code",
   "execution_count": 22,
   "metadata": {},
   "outputs": [],
   "source": [
    "Column_names = ['Country', 'Year', 'Total Heavy episodic drinking', 'Male Heavy Episodeic drinking', 'Female heavy episodic dreaming']"
   ]
  },
  {
   "cell_type": "code",
   "execution_count": 23,
   "metadata": {},
   "outputs": [],
   "source": [
    "Final_DF.rename(columns={'Unnamed: 1_x_x': 'Year', 'Alcohol, heavy episodic drinking (15+), drinkers only, past 30 days (%)': 'Total Heavy Episodic Drinking'}, inplace=True)\n",
    "Final_DF.rename(columns={'Alcohol, heavy episodic drinking (15+), drinkers only, past 30 days (%).1': 'Male Heavy Episodic Drinking', 'Alcohol, heavy episodic drinking (15+), drinkers only, past 30 days (%).2': 'Female Heavy Episodic Drinking'},\n",
    " inplace=True)\n",
    "Final_DF.rename(columns={'Alcohol-attributable fractions (15+), liver cirrhosis deaths (%)': 'Male liver cirrhosis deaths','Alcohol-attributable fractions (15+), liver cirrhosis deaths (%).1': 'Female liver cirrhosis deaths'}, inplace=True)\n",
    "Final_DF.rename(columns={'Alcohol, abstainers past 12 months (%)': 'Total Abstainers', 'Alcohol, abstainers past 12 months (%).1' : 'Male Abstainers', 'Alcohol, abstainers past 12 months (%).2': 'Female Abstainers'}, inplace=True)\n",
    "Final_DF.rename(columns={'Alcohol-attributable fractions (15+), road traffic crash deaths (%)': 'Male road traffic deaths', 'Alcohol-attributable fractions (15+), road traffic crash deaths (%).1': 'Female road traffic deaths'}, inplace=True)\n",
    "Final_DF.rename(columns={'15-19 years old, current drinkers (%)': 'Total drinkers under 19','15-19 years old, current drinkers (%).1': 'Male drinkers under 19', '15-19 years old, current drinkers (%).2':'Female drinkers under 19'}, inplace=True)\n",
    "Final_DF.rename(columns={'Age limits off-premise sales':'Beer off premise', 'Age limits off-premise sales.1': 'Wine off premise','Age limits off-premise sales.2':'Spirits off premise', 'Age limits on-premise service': 'Beer on premise', 'Age limits on-premise service.1': 'Wine on premise', 'Age limits on-premise service.2': 'Spirits on premise'}, inplace=True)"
   ]
  },
  {
   "cell_type": "code",
   "execution_count": 24,
   "metadata": {},
   "outputs": [
    {
     "data": {
      "text/html": [
       "<div>\n",
       "<style scoped>\n",
       "    .dataframe tbody tr th:only-of-type {\n",
       "        vertical-align: middle;\n",
       "    }\n",
       "\n",
       "    .dataframe tbody tr th {\n",
       "        vertical-align: top;\n",
       "    }\n",
       "\n",
       "    .dataframe thead th {\n",
       "        text-align: right;\n",
       "    }\n",
       "</style>\n",
       "<table border=\"1\" class=\"dataframe\">\n",
       "  <thead>\n",
       "    <tr style=\"text-align: right;\">\n",
       "      <th></th>\n",
       "      <th>Year</th>\n",
       "      <th>Total Heavy Episodic Drinking</th>\n",
       "      <th>Male Heavy Episodic Drinking</th>\n",
       "      <th>Female Heavy Episodic Drinking</th>\n",
       "      <th>Male liver cirrhosis deaths</th>\n",
       "      <th>Female liver cirrhosis deaths</th>\n",
       "      <th>Total Abstainers</th>\n",
       "      <th>Male Abstainers</th>\n",
       "      <th>Female Abstainers</th>\n",
       "      <th>Male road traffic deaths</th>\n",
       "      <th>Female road traffic deaths</th>\n",
       "      <th>Total drinkers under 19</th>\n",
       "      <th>Male drinkers under 19</th>\n",
       "      <th>Female drinkers under 19</th>\n",
       "      <th>Beer off premise</th>\n",
       "      <th>Wine off premise</th>\n",
       "      <th>Spirits off premise</th>\n",
       "      <th>Beer on premise</th>\n",
       "      <th>Wine on premise</th>\n",
       "      <th>Spirits on premise</th>\n",
       "    </tr>\n",
       "    <tr>\n",
       "      <th>Unnamed: 0</th>\n",
       "      <th></th>\n",
       "      <th></th>\n",
       "      <th></th>\n",
       "      <th></th>\n",
       "      <th></th>\n",
       "      <th></th>\n",
       "      <th></th>\n",
       "      <th></th>\n",
       "      <th></th>\n",
       "      <th></th>\n",
       "      <th></th>\n",
       "      <th></th>\n",
       "      <th></th>\n",
       "      <th></th>\n",
       "      <th></th>\n",
       "      <th></th>\n",
       "      <th></th>\n",
       "      <th></th>\n",
       "      <th></th>\n",
       "      <th></th>\n",
       "    </tr>\n",
       "  </thead>\n",
       "  <tbody>\n",
       "    <tr>\n",
       "      <th>Country</th>\n",
       "      <td>Year</td>\n",
       "      <td>Both sexes</td>\n",
       "      <td>Male</td>\n",
       "      <td>Female</td>\n",
       "      <td>2016</td>\n",
       "      <td>2016</td>\n",
       "      <td>Both sexes</td>\n",
       "      <td>Male</td>\n",
       "      <td>Female</td>\n",
       "      <td>2016</td>\n",
       "      <td>2016</td>\n",
       "      <td>Both sexes</td>\n",
       "      <td>Male</td>\n",
       "      <td>Female</td>\n",
       "      <td>Beer</td>\n",
       "      <td>Wine</td>\n",
       "      <td>Spirits</td>\n",
       "      <td>Beer</td>\n",
       "      <td>Wine</td>\n",
       "      <td>Spirits</td>\n",
       "    </tr>\n",
       "    <tr>\n",
       "      <th>Afghanistan</th>\n",
       "      <td>2016</td>\n",
       "      <td>2</td>\n",
       "      <td>2.3</td>\n",
       "      <td>0.5</td>\n",
       "      <td>5.5</td>\n",
       "      <td>1.1</td>\n",
       "      <td>99.3</td>\n",
       "      <td>99.0</td>\n",
       "      <td>99.7</td>\n",
       "      <td>0.7</td>\n",
       "      <td>0.5</td>\n",
       "      <td>0.3 [0.3-0.4]</td>\n",
       "      <td>0.5 [0.4-0.7]</td>\n",
       "      <td>0.1 [0.1-0.2]</td>\n",
       "      <td>Total ban</td>\n",
       "      <td>Total ban</td>\n",
       "      <td>Total ban</td>\n",
       "      <td>Total ban</td>\n",
       "      <td>Total ban</td>\n",
       "      <td>Total ban</td>\n",
       "    </tr>\n",
       "    <tr>\n",
       "      <th>Albania</th>\n",
       "      <td>2016</td>\n",
       "      <td>44.7</td>\n",
       "      <td>57.4</td>\n",
       "      <td>23.7</td>\n",
       "      <td>70.3</td>\n",
       "      <td>45.6</td>\n",
       "      <td>49.0</td>\n",
       "      <td>35.0</td>\n",
       "      <td>62.4</td>\n",
       "      <td>37.9</td>\n",
       "      <td>28</td>\n",
       "      <td>37.7 [34.8-40.5]</td>\n",
       "      <td>50.5 [46-54.9]</td>\n",
       "      <td>24.2 [21.1-27.6]</td>\n",
       "      <td>18</td>\n",
       "      <td>18</td>\n",
       "      <td>18</td>\n",
       "      <td>18</td>\n",
       "      <td>18</td>\n",
       "      <td>18</td>\n",
       "    </tr>\n",
       "    <tr>\n",
       "      <th>Algeria</th>\n",
       "      <td>2016</td>\n",
       "      <td>19.3</td>\n",
       "      <td>23.5</td>\n",
       "      <td>6.2</td>\n",
       "      <td>22.7</td>\n",
       "      <td>7</td>\n",
       "      <td>96.8</td>\n",
       "      <td>95.2</td>\n",
       "      <td>98.5</td>\n",
       "      <td>3.1</td>\n",
       "      <td>2</td>\n",
       "      <td>1.5 [1.3-1.8]</td>\n",
       "      <td>2.3 [1.9-2.8]</td>\n",
       "      <td>0.7 [0.6-0.9]</td>\n",
       "      <td>18</td>\n",
       "      <td>18</td>\n",
       "      <td>18</td>\n",
       "      <td>18</td>\n",
       "      <td>18</td>\n",
       "      <td>18</td>\n",
       "    </tr>\n",
       "    <tr>\n",
       "      <th>Andorra</th>\n",
       "      <td>2016</td>\n",
       "      <td>40.5</td>\n",
       "      <td>55</td>\n",
       "      <td>21.7</td>\n",
       "      <td>No data</td>\n",
       "      <td>No data</td>\n",
       "      <td>25.4</td>\n",
       "      <td>14.8</td>\n",
       "      <td>35.7</td>\n",
       "      <td>No data</td>\n",
       "      <td>No data</td>\n",
       "      <td>64.2 [-]</td>\n",
       "      <td>76.6 [-]</td>\n",
       "      <td>50.7 [-]</td>\n",
       "      <td>18</td>\n",
       "      <td>18</td>\n",
       "      <td>18</td>\n",
       "      <td>18</td>\n",
       "      <td>18</td>\n",
       "      <td>18</td>\n",
       "    </tr>\n",
       "  </tbody>\n",
       "</table>\n",
       "</div>"
      ],
      "text/plain": [
       "              Year Total Heavy Episodic Drinking Male Heavy Episodic Drinking  \\\n",
       "Unnamed: 0                                                                      \n",
       "Country       Year                    Both sexes                         Male   \n",
       "Afghanistan   2016                             2                          2.3   \n",
       "Albania       2016                          44.7                         57.4   \n",
       "Algeria       2016                          19.3                         23.5   \n",
       "Andorra       2016                          40.5                           55   \n",
       "\n",
       "            Female Heavy Episodic Drinking Male liver cirrhosis deaths  \\\n",
       "Unnamed: 0                                                               \n",
       "Country                             Female                        2016   \n",
       "Afghanistan                            0.5                         5.5   \n",
       "Albania                               23.7                        70.3   \n",
       "Algeria                                6.2                        22.7   \n",
       "Andorra                               21.7                     No data   \n",
       "\n",
       "            Female liver cirrhosis deaths Total Abstainers Male Abstainers  \\\n",
       "Unnamed: 0                                                                   \n",
       "Country                              2016       Both sexes            Male   \n",
       "Afghanistan                           1.1             99.3            99.0   \n",
       "Albania                              45.6             49.0            35.0   \n",
       "Algeria                                 7             96.8            95.2   \n",
       "Andorra                           No data             25.4            14.8   \n",
       "\n",
       "            Female Abstainers Male road traffic deaths  \\\n",
       "Unnamed: 0                                               \n",
       "Country                Female                     2016   \n",
       "Afghanistan              99.7                      0.7   \n",
       "Albania                  62.4                     37.9   \n",
       "Algeria                  98.5                      3.1   \n",
       "Andorra                  35.7                  No data   \n",
       "\n",
       "            Female road traffic deaths Total drinkers under 19  \\\n",
       "Unnamed: 0                                                       \n",
       "Country                           2016              Both sexes   \n",
       "Afghanistan                        0.5           0.3 [0.3-0.4]   \n",
       "Albania                             28        37.7 [34.8-40.5]   \n",
       "Algeria                              2           1.5 [1.3-1.8]   \n",
       "Andorra                        No data                64.2 [-]   \n",
       "\n",
       "            Male drinkers under 19 Female drinkers under 19 Beer off premise  \\\n",
       "Unnamed: 0                                                                     \n",
       "Country                       Male                   Female             Beer   \n",
       "Afghanistan          0.5 [0.4-0.7]            0.1 [0.1-0.2]        Total ban   \n",
       "Albania             50.5 [46-54.9]         24.2 [21.1-27.6]               18   \n",
       "Algeria              2.3 [1.9-2.8]            0.7 [0.6-0.9]               18   \n",
       "Andorra                   76.6 [-]                 50.7 [-]               18   \n",
       "\n",
       "            Wine off premise Spirits off premise Beer on premise  \\\n",
       "Unnamed: 0                                                         \n",
       "Country                 Wine             Spirits            Beer   \n",
       "Afghanistan        Total ban           Total ban       Total ban   \n",
       "Albania                   18                  18              18   \n",
       "Algeria                   18                  18              18   \n",
       "Andorra                   18                  18              18   \n",
       "\n",
       "            Wine on premise Spirits on premise  \n",
       "Unnamed: 0                                      \n",
       "Country                Wine            Spirits  \n",
       "Afghanistan       Total ban          Total ban  \n",
       "Albania                  18                 18  \n",
       "Algeria                  18                 18  \n",
       "Andorra                  18                 18  "
      ]
     },
     "execution_count": 24,
     "metadata": {},
     "output_type": "execute_result"
    }
   ],
   "source": [
    "Final_DF.head()"
   ]
  },
  {
   "cell_type": "code",
   "execution_count": 25,
   "metadata": {},
   "outputs": [
    {
     "data": {
      "text/plain": [
       "array(['Beer', 'Total ban', '18', '16', 'Subnational', 'No data', 'None',\n",
       "       '13', '21', 'subnational', '14', '17', '25', '20', '15',\n",
       "       'total ban', '19'], dtype=object)"
      ]
     },
     "execution_count": 25,
     "metadata": {},
     "output_type": "execute_result"
    }
   ],
   "source": [
    "Final_DF['Beer on premise'].unique()"
   ]
  },
  {
   "cell_type": "code",
   "execution_count": 26,
   "metadata": {},
   "outputs": [],
   "source": [
    "Final_DF.drop(['Country'], axis=0, inplace=True)"
   ]
  },
  {
   "cell_type": "code",
   "execution_count": 27,
   "metadata": {},
   "outputs": [],
   "source": [
    "Final_DF.drop(['Beer off premise', 'Wine off premise', 'Spirits off premise', 'Wine on premise', 'Spirits on premise'], axis=1, inplace=True)"
   ]
  },
  {
   "cell_type": "code",
   "execution_count": 28,
   "metadata": {},
   "outputs": [],
   "source": [
    "Final_DF.rename(columns={'Beer on premise': 'Youngest legal drinking age'}, inplace=True)"
   ]
  },
  {
   "cell_type": "code",
   "execution_count": 29,
   "metadata": {},
   "outputs": [
    {
     "data": {
      "text/html": [
       "<div>\n",
       "<style scoped>\n",
       "    .dataframe tbody tr th:only-of-type {\n",
       "        vertical-align: middle;\n",
       "    }\n",
       "\n",
       "    .dataframe tbody tr th {\n",
       "        vertical-align: top;\n",
       "    }\n",
       "\n",
       "    .dataframe thead th {\n",
       "        text-align: right;\n",
       "    }\n",
       "</style>\n",
       "<table border=\"1\" class=\"dataframe\">\n",
       "  <thead>\n",
       "    <tr style=\"text-align: right;\">\n",
       "      <th></th>\n",
       "      <th>Year</th>\n",
       "      <th>Total Heavy Episodic Drinking</th>\n",
       "      <th>Male Heavy Episodic Drinking</th>\n",
       "      <th>Female Heavy Episodic Drinking</th>\n",
       "      <th>Male liver cirrhosis deaths</th>\n",
       "      <th>Female liver cirrhosis deaths</th>\n",
       "      <th>Total Abstainers</th>\n",
       "      <th>Male Abstainers</th>\n",
       "      <th>Female Abstainers</th>\n",
       "      <th>Male road traffic deaths</th>\n",
       "      <th>Female road traffic deaths</th>\n",
       "      <th>Total drinkers under 19</th>\n",
       "      <th>Male drinkers under 19</th>\n",
       "      <th>Female drinkers under 19</th>\n",
       "      <th>Youngest legal drinking age</th>\n",
       "    </tr>\n",
       "    <tr>\n",
       "      <th>Unnamed: 0</th>\n",
       "      <th></th>\n",
       "      <th></th>\n",
       "      <th></th>\n",
       "      <th></th>\n",
       "      <th></th>\n",
       "      <th></th>\n",
       "      <th></th>\n",
       "      <th></th>\n",
       "      <th></th>\n",
       "      <th></th>\n",
       "      <th></th>\n",
       "      <th></th>\n",
       "      <th></th>\n",
       "      <th></th>\n",
       "      <th></th>\n",
       "    </tr>\n",
       "  </thead>\n",
       "  <tbody>\n",
       "    <tr>\n",
       "      <th>Afghanistan</th>\n",
       "      <td>2016</td>\n",
       "      <td>2</td>\n",
       "      <td>2.3</td>\n",
       "      <td>0.5</td>\n",
       "      <td>5.5</td>\n",
       "      <td>1.1</td>\n",
       "      <td>99.3</td>\n",
       "      <td>99.0</td>\n",
       "      <td>99.7</td>\n",
       "      <td>0.7</td>\n",
       "      <td>0.5</td>\n",
       "      <td>0.3 [0.3-0.4]</td>\n",
       "      <td>0.5 [0.4-0.7]</td>\n",
       "      <td>0.1 [0.1-0.2]</td>\n",
       "      <td>Total ban</td>\n",
       "    </tr>\n",
       "    <tr>\n",
       "      <th>Albania</th>\n",
       "      <td>2016</td>\n",
       "      <td>44.7</td>\n",
       "      <td>57.4</td>\n",
       "      <td>23.7</td>\n",
       "      <td>70.3</td>\n",
       "      <td>45.6</td>\n",
       "      <td>49.0</td>\n",
       "      <td>35.0</td>\n",
       "      <td>62.4</td>\n",
       "      <td>37.9</td>\n",
       "      <td>28</td>\n",
       "      <td>37.7 [34.8-40.5]</td>\n",
       "      <td>50.5 [46-54.9]</td>\n",
       "      <td>24.2 [21.1-27.6]</td>\n",
       "      <td>18</td>\n",
       "    </tr>\n",
       "    <tr>\n",
       "      <th>Algeria</th>\n",
       "      <td>2016</td>\n",
       "      <td>19.3</td>\n",
       "      <td>23.5</td>\n",
       "      <td>6.2</td>\n",
       "      <td>22.7</td>\n",
       "      <td>7</td>\n",
       "      <td>96.8</td>\n",
       "      <td>95.2</td>\n",
       "      <td>98.5</td>\n",
       "      <td>3.1</td>\n",
       "      <td>2</td>\n",
       "      <td>1.5 [1.3-1.8]</td>\n",
       "      <td>2.3 [1.9-2.8]</td>\n",
       "      <td>0.7 [0.6-0.9]</td>\n",
       "      <td>18</td>\n",
       "    </tr>\n",
       "    <tr>\n",
       "      <th>Andorra</th>\n",
       "      <td>2016</td>\n",
       "      <td>40.5</td>\n",
       "      <td>55</td>\n",
       "      <td>21.7</td>\n",
       "      <td>No data</td>\n",
       "      <td>No data</td>\n",
       "      <td>25.4</td>\n",
       "      <td>14.8</td>\n",
       "      <td>35.7</td>\n",
       "      <td>No data</td>\n",
       "      <td>No data</td>\n",
       "      <td>64.2 [-]</td>\n",
       "      <td>76.6 [-]</td>\n",
       "      <td>50.7 [-]</td>\n",
       "      <td>18</td>\n",
       "    </tr>\n",
       "    <tr>\n",
       "      <th>Angola</th>\n",
       "      <td>2016</td>\n",
       "      <td>81.6</td>\n",
       "      <td>90.1</td>\n",
       "      <td>66.8</td>\n",
       "      <td>60.9</td>\n",
       "      <td>40</td>\n",
       "      <td>52.3</td>\n",
       "      <td>38.4</td>\n",
       "      <td>65.7</td>\n",
       "      <td>48.7</td>\n",
       "      <td>42</td>\n",
       "      <td>33.5 [29.7-37.2]</td>\n",
       "      <td>46 [39.8-52.3]</td>\n",
       "      <td>21.1 [17.2-25.6]</td>\n",
       "      <td>18</td>\n",
       "    </tr>\n",
       "  </tbody>\n",
       "</table>\n",
       "</div>"
      ],
      "text/plain": [
       "              Year Total Heavy Episodic Drinking Male Heavy Episodic Drinking  \\\n",
       "Unnamed: 0                                                                      \n",
       "Afghanistan   2016                             2                          2.3   \n",
       "Albania       2016                          44.7                         57.4   \n",
       "Algeria       2016                          19.3                         23.5   \n",
       "Andorra       2016                          40.5                           55   \n",
       "Angola        2016                          81.6                         90.1   \n",
       "\n",
       "            Female Heavy Episodic Drinking Male liver cirrhosis deaths  \\\n",
       "Unnamed: 0                                                               \n",
       "Afghanistan                            0.5                         5.5   \n",
       "Albania                               23.7                        70.3   \n",
       "Algeria                                6.2                        22.7   \n",
       "Andorra                               21.7                     No data   \n",
       "Angola                                66.8                        60.9   \n",
       "\n",
       "            Female liver cirrhosis deaths Total Abstainers Male Abstainers  \\\n",
       "Unnamed: 0                                                                   \n",
       "Afghanistan                           1.1             99.3            99.0   \n",
       "Albania                              45.6             49.0            35.0   \n",
       "Algeria                                 7             96.8            95.2   \n",
       "Andorra                           No data             25.4            14.8   \n",
       "Angola                                 40             52.3            38.4   \n",
       "\n",
       "            Female Abstainers Male road traffic deaths  \\\n",
       "Unnamed: 0                                               \n",
       "Afghanistan              99.7                      0.7   \n",
       "Albania                  62.4                     37.9   \n",
       "Algeria                  98.5                      3.1   \n",
       "Andorra                  35.7                  No data   \n",
       "Angola                   65.7                     48.7   \n",
       "\n",
       "            Female road traffic deaths Total drinkers under 19  \\\n",
       "Unnamed: 0                                                       \n",
       "Afghanistan                        0.5           0.3 [0.3-0.4]   \n",
       "Albania                             28        37.7 [34.8-40.5]   \n",
       "Algeria                              2           1.5 [1.3-1.8]   \n",
       "Andorra                        No data                64.2 [-]   \n",
       "Angola                              42        33.5 [29.7-37.2]   \n",
       "\n",
       "            Male drinkers under 19 Female drinkers under 19  \\\n",
       "Unnamed: 0                                                    \n",
       "Afghanistan          0.5 [0.4-0.7]            0.1 [0.1-0.2]   \n",
       "Albania             50.5 [46-54.9]         24.2 [21.1-27.6]   \n",
       "Algeria              2.3 [1.9-2.8]            0.7 [0.6-0.9]   \n",
       "Andorra                   76.6 [-]                 50.7 [-]   \n",
       "Angola              46 [39.8-52.3]         21.1 [17.2-25.6]   \n",
       "\n",
       "            Youngest legal drinking age  \n",
       "Unnamed: 0                               \n",
       "Afghanistan                   Total ban  \n",
       "Albania                              18  \n",
       "Algeria                              18  \n",
       "Andorra                              18  \n",
       "Angola                               18  "
      ]
     },
     "execution_count": 29,
     "metadata": {},
     "output_type": "execute_result"
    }
   ],
   "source": [
    "Final_DF.head()"
   ]
  },
  {
   "cell_type": "code",
   "execution_count": 30,
   "metadata": {},
   "outputs": [
    {
     "data": {
      "text/plain": [
       "array(['Total ban', '18', '16', 'Subnational', 'No data', 'None', '13',\n",
       "       '21', 'subnational', '14', '17', '25', '20', '15', 'total ban',\n",
       "       '19'], dtype=object)"
      ]
     },
     "execution_count": 30,
     "metadata": {},
     "output_type": "execute_result"
    }
   ],
   "source": [
    "Final_DF['Youngest legal drinking age'].unique()"
   ]
  },
  {
   "cell_type": "code",
   "execution_count": 31,
   "metadata": {},
   "outputs": [
    {
     "data": {
      "text/plain": [
       "array([' 2016'], dtype=object)"
      ]
     },
     "execution_count": 31,
     "metadata": {},
     "output_type": "execute_result"
    }
   ],
   "source": [
    "Final_DF.Year.unique() \n",
    "#It seems that the year only has 2016. I'm not sure if I deleted the other ones but this seems pretty useless to be honest... "
   ]
  },
  {
   "cell_type": "code",
   "execution_count": 32,
   "metadata": {},
   "outputs": [],
   "source": [
    "#Potentially I lost a lot of the values by setting the index to countries - This must be examined..."
   ]
  },
  {
   "cell_type": "code",
   "execution_count": 33,
   "metadata": {},
   "outputs": [],
   "source": [
    "#Another issue is that my drinkers under 19 are in a strange format and must be moved to a float? But HOW??? \n",
    "#Also clearly they're curreently objects and must be redefined. \n",
    "for x in Final_DF['Total drinkers under 19']:\n",
    "    x.split()\n",
    "    if '[' not in x[0:4]:\n",
    "        Final_DF.replace(x, (x[0:4]), inplace=True)\n",
    "    elif '[' not in x[0:3]:\n",
    "        Final_DF.replace(x, (x[0:3]), inplace=True)\n",
    "    else: \n",
    "        Final_DF.replace(x, (x[0:2]), inplace=True)\n",
    "\n",
    "for x in Final_DF['Male drinkers under 19']:\n",
    "    x.split()\n",
    "    if '[' not in x[0:4]:\n",
    "        Final_DF.replace(x, (x[0:4]), inplace=True)\n",
    "    elif '[' not in x[0:3]:\n",
    "        Final_DF.replace(x, (x[0:3]), inplace=True)\n",
    "    else: \n",
    "        Final_DF.replace(x, (x[0:2]), inplace=True)\n",
    "    \n",
    "for x in Final_DF['Female drinkers under 19']:\n",
    "    x.split()\n",
    "    if '[' not in x[0:4]:\n",
    "        Final_DF.replace(x, (x[0:4]), inplace=True)\n",
    "    elif '[' not in x[0:3]:\n",
    "        Final_DF.replace(x, (x[0:3]), inplace=True)\n",
    "    else: \n",
    "        Final_DF.replace(x, (x[0:2]), inplace=True)"
   ]
  },
  {
   "cell_type": "code",
   "execution_count": 34,
   "metadata": {},
   "outputs": [],
   "source": [
    "Final_DF['Total drinkers under 19'] = Final_DF['Total drinkers under 19'].astype('float64')\n",
    "Final_DF['Male drinkers under 19'] = Final_DF['Male drinkers under 19'].astype('float64')\n",
    "Final_DF['Female drinkers under 19'] = Final_DF['Female drinkers under 19'].astype('float64')"
   ]
  },
  {
   "cell_type": "code",
   "execution_count": 35,
   "metadata": {},
   "outputs": [],
   "source": [
    "Final_DF['Total Heavy Episodic Drinking'] = Final_DF['Total Heavy Episodic Drinking'].astype('float64')\n",
    "Final_DF['Male Heavy Episodic Drinking'] = Final_DF['Male Heavy Episodic Drinking'].astype('float64')\n",
    "Final_DF['Female Heavy Episodic Drinking'] = Final_DF['Female Heavy Episodic Drinking'].astype('float64')"
   ]
  },
  {
   "cell_type": "code",
   "execution_count": 36,
   "metadata": {},
   "outputs": [
    {
     "data": {
      "text/plain": [
       "array(['5.5', '70.3', '22.7', 'No data', '60.9', '67.6', '72.3', '69.2',\n",
       "       '74.1', '75.8', '46', '51.2', '31.8', '10', '52', '77.1', '64.4',\n",
       "       '42.9', '14.4', '52.5', '68.6', '67.8', '69.5', '21', '79.2',\n",
       "       '66.9', '66.7', '61.5', '66.5', '67.4', '72.7', '43.3', '26.9',\n",
       "       '71', '62.6', '59.9', '24.7', '66.6', '55.7', '68.4', '73.4',\n",
       "       '61.3', '74.7', '80.2', '45.6', '34.1', '74.3', '14.2', '63.9',\n",
       "       '48.2', '15.5', '53.2', '72.4', '23', '50.3', '68.3', '45.5',\n",
       "       '75.7', '77.9', '73.1', '49.4', '77.4', '78.6', '39.6', '74.9',\n",
       "       '71.6', '39.2', '21.3', '55', '64.8', '60.8', '51.5', '77.5',\n",
       "       '72.8', '60', '16.5', '17.2', '15.2', '78.2', '52.8', '48.7',\n",
       "       '21.5', '73.9', '47.4', '13.4', '4.6', '51.9', '29.5', '55.8',\n",
       "       '60.5', '1.9', '53.6', '76.6', '32.3', '48.9', '16.8', '36.1',\n",
       "       '4.1', '49.8', '40.2', '66.8', '71.8', '18.2', '35.8', '57.7',\n",
       "       '69.3', '31.7', '69.7', '74.5', '61', '11.2', '76.3', '63.4', '17',\n",
       "       '12.8', '67', '24.2', '66.3', '60.1', '66', '78.1', '78.8', '20.8',\n",
       "       '57', '72', '78.9', '51.7', '70.4', '73.6', '40.4', '64.6', '4',\n",
       "       '14.7', '77.3', '61.8', '30.3', '27.3', '7.4', '73.8', '56.7',\n",
       "       '17.8', '56.1', '7.6', '71.1', '34.4', '43.7', '30', '69', '33',\n",
       "       '37.2', '51.6', '42.7', '77', '74.4', '58.6', '20.2', '70', '2',\n",
       "       '57.4', '54.4'], dtype=object)"
      ]
     },
     "execution_count": 36,
     "metadata": {},
     "output_type": "execute_result"
    }
   ],
   "source": [
    "#Final_DF['Male liver cirrhosis deaths'] = Final_DF['Male liver cirrhosis deaths'].astype('float64')\n",
    "#Final_DF['Female liver cirrhosis deaths'] = Final_DF['Female liver cirrhosis deaths'].astype('float64')\n",
    "Final_DF['Male liver cirrhosis deaths'].unique()"
   ]
  },
  {
   "cell_type": "code",
   "execution_count": 37,
   "metadata": {},
   "outputs": [],
   "source": [
    "Final_DF['Male Abstainers'].replace('No data', 50, inplace=True)\n",
    "Final_DF['Female Abstainers'].replace('No data', 50, inplace=True)\n",
    "Final_DF['Total Abstainers'].replace('No data', 50, inplace=True)"
   ]
  },
  {
   "cell_type": "code",
   "execution_count": 38,
   "metadata": {},
   "outputs": [],
   "source": [
    "Final_DF['Male Abstainers'] = Final_DF['Male Abstainers'].astype('float64')\n",
    "Final_DF['Female Abstainers'] = Final_DF['Female Abstainers'].astype('float64')\n",
    "Final_DF['Total Abstainers'] = Final_DF['Total Abstainers'].astype('float64')                                       "
   ]
  },
  {
   "cell_type": "code",
   "execution_count": 39,
   "metadata": {},
   "outputs": [],
   "source": [
    "Final_DF['Male road traffic deaths'].replace('---', 50, inplace=True)\n",
    "Final_DF['Male road traffic deaths'].replace('No data', 50, inplace=True)\n",
    "Final_DF['Female road traffic deaths'].replace('No data', 50, inplace=True)"
   ]
  },
  {
   "cell_type": "code",
   "execution_count": 40,
   "metadata": {},
   "outputs": [],
   "source": [
    "Final_DF['Male road traffic deaths'] = Final_DF['Male road traffic deaths'].astype('float64')\n",
    "Final_DF['Female road traffic deaths'] = Final_DF['Female road traffic deaths'].astype('float64')"
   ]
  },
  {
   "cell_type": "code",
   "execution_count": 41,
   "metadata": {},
   "outputs": [],
   "source": [
    "Final_DF['Male liver cirrhosis deaths'].replace('No data', 50, inplace=True)\n",
    "Final_DF['Female liver cirrhosis deaths'].replace('No data', 50, inplace=True)"
   ]
  },
  {
   "cell_type": "code",
   "execution_count": 42,
   "metadata": {},
   "outputs": [],
   "source": [
    "Final_DF['Female liver cirrhosis deaths'] = Final_DF['Female liver cirrhosis deaths'].astype('float64')\n",
    "Final_DF['Male liver cirrhosis deaths'] = Final_DF['Male liver cirrhosis deaths'].astype('float64')"
   ]
  },
  {
   "cell_type": "code",
   "execution_count": 43,
   "metadata": {},
   "outputs": [],
   "source": [
    "#I'm going to make the values categorical... \n",
    "Final_DF['Youngest legal drinking age'].replace('subnational', 'Subnational', inplace=True)\n",
    "Final_DF['Youngest legal drinking age'].replace('18', 'Eighteen', inplace=True)\n",
    "Final_DF['Youngest legal drinking age'].replace('total ban', 'Total ban', inplace=True)\n",
    "Final_DF['Youngest legal drinking age'].replace(['16','17'], 'Sixteen to Seventeen', inplace=True)\n",
    "Final_DF['Youngest legal drinking age'].replace(['14','15','13'], 'Under 16', inplace=True)\n",
    "Final_DF['Youngest legal drinking age'].replace(['19','20', '21'], 'Nineteen to twenty-one', inplace=True)\n",
    "Final_DF['Youngest legal drinking age'].replace(['25'], 'Twenty-five', inplace=True)\n"
   ]
  },
  {
   "cell_type": "code",
   "execution_count": 44,
   "metadata": {},
   "outputs": [
    {
     "data": {
      "text/plain": [
       "array(['Total ban', 'Eighteen', 'Sixteen to Seventeen', 'Subnational',\n",
       "       'No data', 'None', 'Under 16', 'Nineteen to twenty-one',\n",
       "       'Twenty-five'], dtype=object)"
      ]
     },
     "execution_count": 44,
     "metadata": {},
     "output_type": "execute_result"
    }
   ],
   "source": [
    "Final_DF['Youngest legal drinking age'].unique()"
   ]
  },
  {
   "cell_type": "code",
   "execution_count": 45,
   "metadata": {},
   "outputs": [
    {
     "name": "stdout",
     "output_type": "stream",
     "text": [
      "<class 'pandas.core.frame.DataFrame'>\n",
      "Index: 189 entries, Afghanistan to Zimbabwe\n",
      "Data columns (total 15 columns):\n",
      " #   Column                          Non-Null Count  Dtype  \n",
      "---  ------                          --------------  -----  \n",
      " 0   Year                            189 non-null    object \n",
      " 1   Total Heavy Episodic Drinking   189 non-null    float64\n",
      " 2   Male Heavy Episodic Drinking    189 non-null    float64\n",
      " 3   Female Heavy Episodic Drinking  189 non-null    float64\n",
      " 4   Male liver cirrhosis deaths     189 non-null    float64\n",
      " 5   Female liver cirrhosis deaths   189 non-null    float64\n",
      " 6   Total Abstainers                189 non-null    float64\n",
      " 7   Male Abstainers                 189 non-null    float64\n",
      " 8   Female Abstainers               189 non-null    float64\n",
      " 9   Male road traffic deaths        189 non-null    float64\n",
      " 10  Female road traffic deaths      189 non-null    float64\n",
      " 11  Total drinkers under 19         189 non-null    float64\n",
      " 12  Male drinkers under 19          189 non-null    float64\n",
      " 13  Female drinkers under 19        189 non-null    float64\n",
      " 14  Youngest legal drinking age     189 non-null    object \n",
      "dtypes: float64(13), object(2)\n",
      "memory usage: 23.6+ KB\n"
     ]
    }
   ],
   "source": [
    "Final_DF.info()"
   ]
  },
  {
   "cell_type": "markdown",
   "metadata": {},
   "source": [
    "<font size='50'> Data Visualisaton </font>"
   ]
  },
  {
   "cell_type": "code",
   "execution_count": 46,
   "metadata": {},
   "outputs": [],
   "source": [
    "#Time to start looking at the data\n",
    "import matplotlib.pyplot as plt\n",
    "import seaborn as sns\n",
    "%matplotlib inline\n",
    "from scipy.stats import pearsonr"
   ]
  },
  {
   "cell_type": "code",
   "execution_count": 47,
   "metadata": {},
   "outputs": [
    {
     "name": "stdout",
     "output_type": "stream",
     "text": [
      "{'Total ban': 10, 'Eighteen': 106, 'Sixteen to Seventeen': 16, 'Subnational': 3, 'No data': 20, 'None': 11, 'Under 16': 3, 'Nineteen to twenty-one': 19, 'Twenty-five': 1}\n",
      "\n",
      "[('Eighteen', 106), ('No data', 20), ('Nineteen to twenty-one', 19), ('Sixteen to Seventeen', 16), ('None', 11), ('Total ban', 10), ('Subnational', 3), ('Under 16', 3), ('Twenty-five', 1)]\n",
      "\n",
      "['Total ban', 'Eighteen', 'Sixteen to Seventeen', 'Subnational', 'No data', 'None', 'Under 16', 'Nineteen to twenty-one', 'Twenty-five']\n",
      "\n",
      "[10, 106, 16, 3, 20, 11, 3, 19, 1]\n"
     ]
    }
   ],
   "source": [
    "#Making a pie chart for the youngest legal drinking age.\n",
    "O = {}\n",
    "for x in Final_DF['Youngest legal drinking age']:\n",
    "    if x not in O:\n",
    "        O[x] = 1\n",
    "    else: \n",
    "        O[x] += 1\n",
    "        \n",
    "print(O)\n",
    "print('')\n",
    "\n",
    "#Try to order the pie chart. \n",
    "OO = sorted(O.items(), key=lambda x: x[1], reverse=True)\n",
    "print(OO)\n",
    "print('')\n",
    "\n",
    "values = []\n",
    "sizes = []\n",
    "for x in O:\n",
    "    values.append(x)\n",
    "    sizes.append(O[x])\n",
    "\n",
    "print(values)\n",
    "print('')\n",
    "print(sizes)"
   ]
  },
  {
   "cell_type": "code",
   "execution_count": 48,
   "metadata": {},
   "outputs": [
    {
     "data": {
      "image/png": "[encoded data removed]",
      "text/plain": [
       "<Figure size 432x288 with 1 Axes>"
      ]
     },
     "metadata": {},
     "output_type": "display_data"
    }
   ],
   "source": [
    "plt.pie(sizes, labels=values, colors=['darkred', 'red', 'darkorange', 'orange', 'yellow', 'lightgreen', 'green', 'lightblue', 'blue', 'indigo', 'purple', 'pink'])\n",
    "plt.title('The youngest age alcohol is permitted around the globe')\n",
    "plt.savefig('Alcohol_age_pie_plot.pdf')"
   ]
  },
  {
   "cell_type": "code",
   "execution_count": 50,
   "metadata": {},
   "outputs": [
    {
     "data": {
      "text/html": [
       "<div>\n",
       "<style scoped>\n",
       "    .dataframe tbody tr th:only-of-type {\n",
       "        vertical-align: middle;\n",
       "    }\n",
       "\n",
       "    .dataframe tbody tr th {\n",
       "        vertical-align: top;\n",
       "    }\n",
       "\n",
       "    .dataframe thead th {\n",
       "        text-align: right;\n",
       "    }\n",
       "</style>\n",
       "<table border=\"1\" class=\"dataframe\">\n",
       "  <thead>\n",
       "    <tr style=\"text-align: right;\">\n",
       "      <th></th>\n",
       "      <th>Year</th>\n",
       "      <th>Total Heavy Episodic Drinking</th>\n",
       "      <th>Male Heavy Episodic Drinking</th>\n",
       "      <th>Female Heavy Episodic Drinking</th>\n",
       "      <th>Male liver cirrhosis deaths</th>\n",
       "      <th>Female liver cirrhosis deaths</th>\n",
       "      <th>Total Abstainers</th>\n",
       "      <th>Male Abstainers</th>\n",
       "      <th>Female Abstainers</th>\n",
       "      <th>Male road traffic deaths</th>\n",
       "      <th>Female road traffic deaths</th>\n",
       "      <th>Total drinkers under 19</th>\n",
       "      <th>Male drinkers under 19</th>\n",
       "      <th>Female drinkers under 19</th>\n",
       "      <th>Youngest legal drinking age</th>\n",
       "    </tr>\n",
       "    <tr>\n",
       "      <th>Unnamed: 0</th>\n",
       "      <th></th>\n",
       "      <th></th>\n",
       "      <th></th>\n",
       "      <th></th>\n",
       "      <th></th>\n",
       "      <th></th>\n",
       "      <th></th>\n",
       "      <th></th>\n",
       "      <th></th>\n",
       "      <th></th>\n",
       "      <th></th>\n",
       "      <th></th>\n",
       "      <th></th>\n",
       "      <th></th>\n",
       "      <th></th>\n",
       "    </tr>\n",
       "  </thead>\n",
       "  <tbody>\n",
       "    <tr>\n",
       "      <th>Ecuador</th>\n",
       "      <td>2016</td>\n",
       "      <td>45.8</td>\n",
       "      <td>58.1</td>\n",
       "      <td>23.7</td>\n",
       "      <td>48.2</td>\n",
       "      <td>31.9</td>\n",
       "      <td>53.5</td>\n",
       "      <td>39.7</td>\n",
       "      <td>67.1</td>\n",
       "      <td>34.8</td>\n",
       "      <td>23.0</td>\n",
       "      <td>32.2</td>\n",
       "      <td>44.1</td>\n",
       "      <td>19.8</td>\n",
       "      <td>Eighteen</td>\n",
       "    </tr>\n",
       "    <tr>\n",
       "      <th>Egypt</th>\n",
       "      <td>2016</td>\n",
       "      <td>18.5</td>\n",
       "      <td>22.6</td>\n",
       "      <td>5.9</td>\n",
       "      <td>15.5</td>\n",
       "      <td>4.5</td>\n",
       "      <td>97.2</td>\n",
       "      <td>95.8</td>\n",
       "      <td>98.6</td>\n",
       "      <td>1.8</td>\n",
       "      <td>1.5</td>\n",
       "      <td>1.4</td>\n",
       "      <td>2.1</td>\n",
       "      <td>0.7</td>\n",
       "      <td>Nineteen to twenty-one</td>\n",
       "    </tr>\n",
       "    <tr>\n",
       "      <th>El Salvador</th>\n",
       "      <td>2016</td>\n",
       "      <td>34.8</td>\n",
       "      <td>45.4</td>\n",
       "      <td>15.5</td>\n",
       "      <td>53.2</td>\n",
       "      <td>27.8</td>\n",
       "      <td>70.6</td>\n",
       "      <td>58.2</td>\n",
       "      <td>81.0</td>\n",
       "      <td>22.9</td>\n",
       "      <td>17.4</td>\n",
       "      <td>19.0</td>\n",
       "      <td>27.4</td>\n",
       "      <td>10.6</td>\n",
       "      <td>Eighteen</td>\n",
       "    </tr>\n",
       "    <tr>\n",
       "      <th>Equatorial Guinea</th>\n",
       "      <td>2016</td>\n",
       "      <td>88.1</td>\n",
       "      <td>94.3</td>\n",
       "      <td>79.1</td>\n",
       "      <td>72.4</td>\n",
       "      <td>57.7</td>\n",
       "      <td>27.1</td>\n",
       "      <td>16.7</td>\n",
       "      <td>38.3</td>\n",
       "      <td>58.6</td>\n",
       "      <td>53.2</td>\n",
       "      <td>59.3</td>\n",
       "      <td>72.8</td>\n",
       "      <td>45.6</td>\n",
       "      <td>Eighteen</td>\n",
       "    </tr>\n",
       "    <tr>\n",
       "      <th>Eritrea</th>\n",
       "      <td>2016</td>\n",
       "      <td>42.9</td>\n",
       "      <td>52.5</td>\n",
       "      <td>19.3</td>\n",
       "      <td>23.0</td>\n",
       "      <td>16.9</td>\n",
       "      <td>79.7</td>\n",
       "      <td>70.8</td>\n",
       "      <td>88.4</td>\n",
       "      <td>15.6</td>\n",
       "      <td>10.5</td>\n",
       "      <td>11.5</td>\n",
       "      <td>16.8</td>\n",
       "      <td>6.0</td>\n",
       "      <td>Twenty-five</td>\n",
       "    </tr>\n",
       "    <tr>\n",
       "      <th>Estonia</th>\n",
       "      <td>2016</td>\n",
       "      <td>57.4</td>\n",
       "      <td>74.5</td>\n",
       "      <td>37.7</td>\n",
       "      <td>50.3</td>\n",
       "      <td>62.5</td>\n",
       "      <td>27.2</td>\n",
       "      <td>15.1</td>\n",
       "      <td>37.4</td>\n",
       "      <td>50.6</td>\n",
       "      <td>47.5</td>\n",
       "      <td>62.3</td>\n",
       "      <td>75.2</td>\n",
       "      <td>48.8</td>\n",
       "      <td>Eighteen</td>\n",
       "    </tr>\n",
       "    <tr>\n",
       "      <th>Eswatini</th>\n",
       "      <td>2016</td>\n",
       "      <td>60.0</td>\n",
       "      <td>71.4</td>\n",
       "      <td>35.2</td>\n",
       "      <td>68.3</td>\n",
       "      <td>44.9</td>\n",
       "      <td>71.2</td>\n",
       "      <td>59.6</td>\n",
       "      <td>82.3</td>\n",
       "      <td>31.4</td>\n",
       "      <td>22.6</td>\n",
       "      <td>17.6</td>\n",
       "      <td>25.4</td>\n",
       "      <td>9.7</td>\n",
       "      <td>Eighteen</td>\n",
       "    </tr>\n",
       "    <tr>\n",
       "      <th>Ethiopia</th>\n",
       "      <td>2016</td>\n",
       "      <td>45.2</td>\n",
       "      <td>55.2</td>\n",
       "      <td>21.3</td>\n",
       "      <td>43.3</td>\n",
       "      <td>23.3</td>\n",
       "      <td>77.4</td>\n",
       "      <td>67.9</td>\n",
       "      <td>86.8</td>\n",
       "      <td>20.3</td>\n",
       "      <td>14.2</td>\n",
       "      <td>13.3</td>\n",
       "      <td>19.5</td>\n",
       "      <td>7.1</td>\n",
       "      <td>Eighteen</td>\n",
       "    </tr>\n",
       "    <tr>\n",
       "      <th>Fiji</th>\n",
       "      <td>2016</td>\n",
       "      <td>62.4</td>\n",
       "      <td>72.0</td>\n",
       "      <td>36.7</td>\n",
       "      <td>45.5</td>\n",
       "      <td>20.2</td>\n",
       "      <td>82.3</td>\n",
       "      <td>74.5</td>\n",
       "      <td>90.2</td>\n",
       "      <td>24.0</td>\n",
       "      <td>19.7</td>\n",
       "      <td>9.9</td>\n",
       "      <td>14.4</td>\n",
       "      <td>5.0</td>\n",
       "      <td>No data</td>\n",
       "    </tr>\n",
       "    <tr>\n",
       "      <th>Finland</th>\n",
       "      <td>2016</td>\n",
       "      <td>39.0</td>\n",
       "      <td>53.3</td>\n",
       "      <td>20.4</td>\n",
       "      <td>75.7</td>\n",
       "      <td>61.1</td>\n",
       "      <td>27.5</td>\n",
       "      <td>16.2</td>\n",
       "      <td>38.3</td>\n",
       "      <td>43.4</td>\n",
       "      <td>28.7</td>\n",
       "      <td>61.9</td>\n",
       "      <td>74.9</td>\n",
       "      <td>48.3</td>\n",
       "      <td>Eighteen</td>\n",
       "    </tr>\n",
       "    <tr>\n",
       "      <th>France</th>\n",
       "      <td>2016</td>\n",
       "      <td>41.5</td>\n",
       "      <td>56.7</td>\n",
       "      <td>23.0</td>\n",
       "      <td>77.9</td>\n",
       "      <td>64.4</td>\n",
       "      <td>24.7</td>\n",
       "      <td>14.2</td>\n",
       "      <td>34.4</td>\n",
       "      <td>45.9</td>\n",
       "      <td>39.8</td>\n",
       "      <td>65.4</td>\n",
       "      <td>77.8</td>\n",
       "      <td>52.4</td>\n",
       "      <td>Eighteen</td>\n",
       "    </tr>\n",
       "    <tr>\n",
       "      <th>Gabon</th>\n",
       "      <td>2016</td>\n",
       "      <td>86.2</td>\n",
       "      <td>93.3</td>\n",
       "      <td>75.6</td>\n",
       "      <td>73.1</td>\n",
       "      <td>55.9</td>\n",
       "      <td>33.5</td>\n",
       "      <td>21.4</td>\n",
       "      <td>45.9</td>\n",
       "      <td>56.1</td>\n",
       "      <td>50.0</td>\n",
       "      <td>52.3</td>\n",
       "      <td>66.3</td>\n",
       "      <td>38.1</td>\n",
       "      <td>Eighteen</td>\n",
       "    </tr>\n",
       "  </tbody>\n",
       "</table>\n",
       "</div>"
      ],
      "text/plain": [
       "                    Year  Total Heavy Episodic Drinking  \\\n",
       "Unnamed: 0                                                \n",
       "Ecuador             2016                           45.8   \n",
       "Egypt               2016                           18.5   \n",
       "El Salvador         2016                           34.8   \n",
       "Equatorial Guinea   2016                           88.1   \n",
       "Eritrea             2016                           42.9   \n",
       "Estonia             2016                           57.4   \n",
       "Eswatini            2016                           60.0   \n",
       "Ethiopia            2016                           45.2   \n",
       "Fiji                2016                           62.4   \n",
       "Finland             2016                           39.0   \n",
       "France              2016                           41.5   \n",
       "Gabon               2016                           86.2   \n",
       "\n",
       "                   Male Heavy Episodic Drinking  \\\n",
       "Unnamed: 0                                        \n",
       "Ecuador                                    58.1   \n",
       "Egypt                                      22.6   \n",
       "El Salvador                                45.4   \n",
       "Equatorial Guinea                          94.3   \n",
       "Eritrea                                    52.5   \n",
       "Estonia                                    74.5   \n",
       "Eswatini                                   71.4   \n",
       "Ethiopia                                   55.2   \n",
       "Fiji                                       72.0   \n",
       "Finland                                    53.3   \n",
       "France                                     56.7   \n",
       "Gabon                                      93.3   \n",
       "\n",
       "                   Female Heavy Episodic Drinking  \\\n",
       "Unnamed: 0                                          \n",
       "Ecuador                                      23.7   \n",
       "Egypt                                         5.9   \n",
       "El Salvador                                  15.5   \n",
       "Equatorial Guinea                            79.1   \n",
       "Eritrea                                      19.3   \n",
       "Estonia                                      37.7   \n",
       "Eswatini                                     35.2   \n",
       "Ethiopia                                     21.3   \n",
       "Fiji                                         36.7   \n",
       "Finland                                      20.4   \n",
       "France                                       23.0   \n",
       "Gabon                                        75.6   \n",
       "\n",
       "                   Male liver cirrhosis deaths  Female liver cirrhosis deaths  \\\n",
       "Unnamed: 0                                                                      \n",
       "Ecuador                                   48.2                           31.9   \n",
       "Egypt                                     15.5                            4.5   \n",
       "El Salvador                               53.2                           27.8   \n",
       "Equatorial Guinea                         72.4                           57.7   \n",
       "Eritrea                                   23.0                           16.9   \n",
       "Estonia                                   50.3                           62.5   \n",
       "Eswatini                                  68.3                           44.9   \n",
       "Ethiopia                                  43.3                           23.3   \n",
       "Fiji                                      45.5                           20.2   \n",
       "Finland                                   75.7                           61.1   \n",
       "France                                    77.9                           64.4   \n",
       "Gabon                                     73.1                           55.9   \n",
       "\n",
       "                   Total Abstainers  Male Abstainers  Female Abstainers  \\\n",
       "Unnamed: 0                                                                \n",
       "Ecuador                        53.5             39.7               67.1   \n",
       "Egypt                          97.2             95.8               98.6   \n",
       "El Salvador                    70.6             58.2               81.0   \n",
       "Equatorial Guinea              27.1             16.7               38.3   \n",
       "Eritrea                        79.7             70.8               88.4   \n",
       "Estonia                        27.2             15.1               37.4   \n",
       "Eswatini                       71.2             59.6               82.3   \n",
       "Ethiopia                       77.4             67.9               86.8   \n",
       "Fiji                           82.3             74.5               90.2   \n",
       "Finland                        27.5             16.2               38.3   \n",
       "France                         24.7             14.2               34.4   \n",
       "Gabon                          33.5             21.4               45.9   \n",
       "\n",
       "                   Male road traffic deaths  Female road traffic deaths  \\\n",
       "Unnamed: 0                                                                \n",
       "Ecuador                                34.8                        23.0   \n",
       "Egypt                                   1.8                         1.5   \n",
       "El Salvador                            22.9                        17.4   \n",
       "Equatorial Guinea                      58.6                        53.2   \n",
       "Eritrea                                15.6                        10.5   \n",
       "Estonia                                50.6                        47.5   \n",
       "Eswatini                               31.4                        22.6   \n",
       "Ethiopia                               20.3                        14.2   \n",
       "Fiji                                   24.0                        19.7   \n",
       "Finland                                43.4                        28.7   \n",
       "France                                 45.9                        39.8   \n",
       "Gabon                                  56.1                        50.0   \n",
       "\n",
       "                   Total drinkers under 19  Male drinkers under 19  \\\n",
       "Unnamed: 0                                                           \n",
       "Ecuador                               32.2                    44.1   \n",
       "Egypt                                  1.4                     2.1   \n",
       "El Salvador                           19.0                    27.4   \n",
       "Equatorial Guinea                     59.3                    72.8   \n",
       "Eritrea                               11.5                    16.8   \n",
       "Estonia                               62.3                    75.2   \n",
       "Eswatini                              17.6                    25.4   \n",
       "Ethiopia                              13.3                    19.5   \n",
       "Fiji                                   9.9                    14.4   \n",
       "Finland                               61.9                    74.9   \n",
       "France                                65.4                    77.8   \n",
       "Gabon                                 52.3                    66.3   \n",
       "\n",
       "                   Female drinkers under 19 Youngest legal drinking age  \n",
       "Unnamed: 0                                                               \n",
       "Ecuador                                19.8                    Eighteen  \n",
       "Egypt                                   0.7      Nineteen to twenty-one  \n",
       "El Salvador                            10.6                    Eighteen  \n",
       "Equatorial Guinea                      45.6                    Eighteen  \n",
       "Eritrea                                 6.0                 Twenty-five  \n",
       "Estonia                                48.8                    Eighteen  \n",
       "Eswatini                                9.7                    Eighteen  \n",
       "Ethiopia                                7.1                    Eighteen  \n",
       "Fiji                                    5.0                     No data  \n",
       "Finland                                48.3                    Eighteen  \n",
       "France                                 52.4                    Eighteen  \n",
       "Gabon                                  38.1                    Eighteen  "
      ]
     },
     "execution_count": 50,
     "metadata": {},
     "output_type": "execute_result"
    }
   ],
   "source": [
    "Sample_DataFrame = Final_DF.iloc[52 : 64]\n",
    "Sample_DataFrame.head(12)"
   ]
  },
  {
   "cell_type": "code",
   "execution_count": 51,
   "metadata": {},
   "outputs": [
    {
     "data": {
      "text/html": [
       "<div>\n",
       "<style scoped>\n",
       "    .dataframe tbody tr th:only-of-type {\n",
       "        vertical-align: middle;\n",
       "    }\n",
       "\n",
       "    .dataframe tbody tr th {\n",
       "        vertical-align: top;\n",
       "    }\n",
       "\n",
       "    .dataframe thead th {\n",
       "        text-align: right;\n",
       "    }\n",
       "</style>\n",
       "<table border=\"1\" class=\"dataframe\">\n",
       "  <thead>\n",
       "    <tr style=\"text-align: right;\">\n",
       "      <th></th>\n",
       "      <th>Year</th>\n",
       "      <th>Total Heavy Episodic Drinking</th>\n",
       "      <th>Male Heavy Episodic Drinking</th>\n",
       "      <th>Female Heavy Episodic Drinking</th>\n",
       "      <th>Male liver cirrhosis deaths</th>\n",
       "      <th>Female liver cirrhosis deaths</th>\n",
       "      <th>Total Abstainers</th>\n",
       "      <th>Male Abstainers</th>\n",
       "      <th>Female Abstainers</th>\n",
       "      <th>Male road traffic deaths</th>\n",
       "      <th>Female road traffic deaths</th>\n",
       "      <th>Total drinkers under 19</th>\n",
       "      <th>Male drinkers under 19</th>\n",
       "      <th>Female drinkers under 19</th>\n",
       "      <th>Youngest legal drinking age</th>\n",
       "    </tr>\n",
       "    <tr>\n",
       "      <th>Unnamed: 0</th>\n",
       "      <th></th>\n",
       "      <th></th>\n",
       "      <th></th>\n",
       "      <th></th>\n",
       "      <th></th>\n",
       "      <th></th>\n",
       "      <th></th>\n",
       "      <th></th>\n",
       "      <th></th>\n",
       "      <th></th>\n",
       "      <th></th>\n",
       "      <th></th>\n",
       "      <th></th>\n",
       "      <th></th>\n",
       "      <th></th>\n",
       "    </tr>\n",
       "  </thead>\n",
       "  <tbody>\n",
       "    <tr>\n",
       "      <th>Afghanistan</th>\n",
       "      <td>2016</td>\n",
       "      <td>2.0</td>\n",
       "      <td>2.3</td>\n",
       "      <td>0.5</td>\n",
       "      <td>5.5</td>\n",
       "      <td>1.1</td>\n",
       "      <td>99.3</td>\n",
       "      <td>99.0</td>\n",
       "      <td>99.7</td>\n",
       "      <td>0.7</td>\n",
       "      <td>0.5</td>\n",
       "      <td>0.3</td>\n",
       "      <td>0.5</td>\n",
       "      <td>0.1</td>\n",
       "      <td>Total ban</td>\n",
       "    </tr>\n",
       "    <tr>\n",
       "      <th>Albania</th>\n",
       "      <td>2016</td>\n",
       "      <td>44.7</td>\n",
       "      <td>57.4</td>\n",
       "      <td>23.7</td>\n",
       "      <td>70.3</td>\n",
       "      <td>45.6</td>\n",
       "      <td>49.0</td>\n",
       "      <td>35.0</td>\n",
       "      <td>62.4</td>\n",
       "      <td>37.9</td>\n",
       "      <td>28.0</td>\n",
       "      <td>37.7</td>\n",
       "      <td>50.5</td>\n",
       "      <td>24.2</td>\n",
       "      <td>Eighteen</td>\n",
       "    </tr>\n",
       "    <tr>\n",
       "      <th>Algeria</th>\n",
       "      <td>2016</td>\n",
       "      <td>19.3</td>\n",
       "      <td>23.5</td>\n",
       "      <td>6.2</td>\n",
       "      <td>22.7</td>\n",
       "      <td>7.0</td>\n",
       "      <td>96.8</td>\n",
       "      <td>95.2</td>\n",
       "      <td>98.5</td>\n",
       "      <td>3.1</td>\n",
       "      <td>2.0</td>\n",
       "      <td>1.5</td>\n",
       "      <td>2.3</td>\n",
       "      <td>0.7</td>\n",
       "      <td>Eighteen</td>\n",
       "    </tr>\n",
       "    <tr>\n",
       "      <th>Andorra</th>\n",
       "      <td>2016</td>\n",
       "      <td>40.5</td>\n",
       "      <td>55.0</td>\n",
       "      <td>21.7</td>\n",
       "      <td>50.0</td>\n",
       "      <td>50.0</td>\n",
       "      <td>25.4</td>\n",
       "      <td>14.8</td>\n",
       "      <td>35.7</td>\n",
       "      <td>50.0</td>\n",
       "      <td>50.0</td>\n",
       "      <td>64.2</td>\n",
       "      <td>76.6</td>\n",
       "      <td>50.7</td>\n",
       "      <td>Eighteen</td>\n",
       "    </tr>\n",
       "    <tr>\n",
       "      <th>Angola</th>\n",
       "      <td>2016</td>\n",
       "      <td>81.6</td>\n",
       "      <td>90.1</td>\n",
       "      <td>66.8</td>\n",
       "      <td>60.9</td>\n",
       "      <td>40.0</td>\n",
       "      <td>52.3</td>\n",
       "      <td>38.4</td>\n",
       "      <td>65.7</td>\n",
       "      <td>48.7</td>\n",
       "      <td>42.0</td>\n",
       "      <td>33.5</td>\n",
       "      <td>46.0</td>\n",
       "      <td>21.1</td>\n",
       "      <td>Eighteen</td>\n",
       "    </tr>\n",
       "  </tbody>\n",
       "</table>\n",
       "</div>"
      ],
      "text/plain": [
       "              Year  Total Heavy Episodic Drinking  \\\n",
       "Unnamed: 0                                          \n",
       "Afghanistan   2016                            2.0   \n",
       "Albania       2016                           44.7   \n",
       "Algeria       2016                           19.3   \n",
       "Andorra       2016                           40.5   \n",
       "Angola        2016                           81.6   \n",
       "\n",
       "             Male Heavy Episodic Drinking  Female Heavy Episodic Drinking  \\\n",
       "Unnamed: 0                                                                  \n",
       "Afghanistan                           2.3                             0.5   \n",
       "Albania                              57.4                            23.7   \n",
       "Algeria                              23.5                             6.2   \n",
       "Andorra                              55.0                            21.7   \n",
       "Angola                               90.1                            66.8   \n",
       "\n",
       "             Male liver cirrhosis deaths  Female liver cirrhosis deaths  \\\n",
       "Unnamed: 0                                                                \n",
       "Afghanistan                          5.5                            1.1   \n",
       "Albania                             70.3                           45.6   \n",
       "Algeria                             22.7                            7.0   \n",
       "Andorra                             50.0                           50.0   \n",
       "Angola                              60.9                           40.0   \n",
       "\n",
       "             Total Abstainers  Male Abstainers  Female Abstainers  \\\n",
       "Unnamed: 0                                                          \n",
       "Afghanistan              99.3             99.0               99.7   \n",
       "Albania                  49.0             35.0               62.4   \n",
       "Algeria                  96.8             95.2               98.5   \n",
       "Andorra                  25.4             14.8               35.7   \n",
       "Angola                   52.3             38.4               65.7   \n",
       "\n",
       "             Male road traffic deaths  Female road traffic deaths  \\\n",
       "Unnamed: 0                                                          \n",
       "Afghanistan                       0.7                         0.5   \n",
       "Albania                          37.9                        28.0   \n",
       "Algeria                           3.1                         2.0   \n",
       "Andorra                          50.0                        50.0   \n",
       "Angola                           48.7                        42.0   \n",
       "\n",
       "             Total drinkers under 19  Male drinkers under 19  \\\n",
       "Unnamed: 0                                                     \n",
       "Afghanistan                      0.3                     0.5   \n",
       "Albania                         37.7                    50.5   \n",
       "Algeria                          1.5                     2.3   \n",
       "Andorra                         64.2                    76.6   \n",
       "Angola                          33.5                    46.0   \n",
       "\n",
       "             Female drinkers under 19 Youngest legal drinking age  \n",
       "Unnamed: 0                                                         \n",
       "Afghanistan                       0.1                   Total ban  \n",
       "Albania                          24.2                    Eighteen  \n",
       "Algeria                           0.7                    Eighteen  \n",
       "Andorra                          50.7                    Eighteen  \n",
       "Angola                           21.1                    Eighteen  "
      ]
     },
     "execution_count": 51,
     "metadata": {},
     "output_type": "execute_result"
    }
   ],
   "source": [
    "Final_DF.head()"
   ]
  },
  {
   "cell_type": "code",
   "execution_count": 52,
   "metadata": {},
   "outputs": [
    {
     "data": {
      "image/png": "[encoded data removed]",
      "text/plain": [
       "<Figure size 432x288 with 1 Axes>"
      ]
     },
     "metadata": {
      "needs_background": "light"
     },
     "output_type": "display_data"
    }
   ],
   "source": [
    "#Much more work on these please... \n",
    "plt.bar(Sample_DataFrame.index, Sample_DataFrame['Total drinkers under 19'], color='red')\n",
    "plt.title('Total drinkers under 19 per country', color='firebrick')\n",
    "plt.xticks(rotation=90)\n",
    "plt.ylabel('percentage of drinkers under 19')\n",
    "plt.savefig('Total_percentage_of_drinkers_under_19.pdf')"
   ]
  },
  {
   "cell_type": "code",
   "execution_count": 53,
   "metadata": {},
   "outputs": [
    {
     "data": {
      "image/png": "[encoded data removed]",
      "text/plain": [
       "<Figure size 432x288 with 1 Axes>"
      ]
     },
     "metadata": {
      "needs_background": "light"
     },
     "output_type": "display_data"
    }
   ],
   "source": [
    "#Barchart \n",
    "plt.bar(Final_DF['Youngest legal drinking age'], Final_DF['Total drinkers under 19'], color='gold')\n",
    "plt.xlabel('Youngest legal drinking age')\n",
    "plt.ylabel('Percentage of drinkers under 19')\n",
    "plt.xticks(rotation=90)\n",
    "plt.title('Youngest legal drinking age vs. Percentage of drinkers under 19', color='orange')\n",
    "plt.savefig('Legal_drinking_vs_percentage_drinkers.pdf')"
   ]
  },
  {
   "cell_type": "code",
   "execution_count": 156,
   "metadata": {},
   "outputs": [
    {
     "data": {
      "image/png": "[encoded data removed]",
      "text/plain": [
       "<Figure size 432x288 with 1 Axes>"
      ]
     },
     "metadata": {
      "needs_background": "light"
     },
     "output_type": "display_data"
    }
   ],
   "source": [
    "sns.regplot(Final_DF['Total Heavy Episodic Drinking'],Final_DF['Male liver cirrhosis deaths'],color='green')\n",
    "plt.xlabel('Total Heavy Episodic Drinking')\n",
    "plt.ylabel('Male liver cirrhosis death\\'s')\n",
    "plt.title('Total heavy episodic drinking vs. Male liver cirrhosis deaths', color='darkgreen')\n",
    "plt.savefig('Heavy_drinking_liver_cirrhosis.pdf')"
   ]
  },
  {
   "cell_type": "code",
   "execution_count": 90,
   "metadata": {},
   "outputs": [
    {
     "name": "stdout",
     "output_type": "stream",
     "text": [
      "0.5030480262291381\n"
     ]
    }
   ],
   "source": [
    "correlation, _ = pearsonr(Final_DF['Total Heavy Episodic Drinking'], Final_DF['Male liver cirrhosis deaths'])\n",
    "print(correlation)"
   ]
  },
  {
   "cell_type": "code",
   "execution_count": 55,
   "metadata": {},
   "outputs": [
    {
     "data": {
      "image/png": "[encoded data removed]",
      "text/plain": [
       "<Figure size 432x288 with 1 Axes>"
      ]
     },
     "metadata": {
      "needs_background": "light"
     },
     "output_type": "display_data"
    }
   ],
   "source": [
    "sns.regplot(Final_DF['Total Abstainers'],Final_DF['Female liver cirrhosis deaths'],color='lightblue')\n",
    "plt.xlabel('Total Abstainers')\n",
    "plt.ylabel('Female liver cirrhosis death\\'s')\n",
    "plt.title('Total abstainers vs. female liver cirrhosis death\\'s', color='deepskyblue')\n",
    "plt.savefig('Total_abstainers_vs_female_liver.pdf')"
   ]
  },
  {
   "cell_type": "code",
   "execution_count": 91,
   "metadata": {},
   "outputs": [
    {
     "name": "stdout",
     "output_type": "stream",
     "text": [
      "-0.9216746225669821\n"
     ]
    }
   ],
   "source": [
    "correlation, _ = pearsonr(Final_DF['Total Abstainers'], Final_DF['Female liver cirrhosis deaths'])\n",
    "print(correlation)"
   ]
  },
  {
   "cell_type": "code",
   "execution_count": 56,
   "metadata": {},
   "outputs": [
    {
     "data": {
      "image/png": "[encoded data removed]",
      "text/plain": [
       "<Figure size 432x288 with 1 Axes>"
      ]
     },
     "metadata": {
      "needs_background": "light"
     },
     "output_type": "display_data"
    }
   ],
   "source": [
    "#Here goes more Graphing!!!\n",
    "sns.regplot(Final_DF['Male road traffic deaths'],Final_DF['Male liver cirrhosis deaths'],color='purple')\n",
    "plt.xlabel('Male road traffic deaths')\n",
    "plt.ylabel('Male liver cirrhosis death\\'s')\n",
    "plt.title('Male road traffic deaths vs. Male liver cirrhosis death\\'s', color='indigo')\n",
    "plt.savefig('Road_traffic_Liver_Cirrhosis.pdf')"
   ]
  },
  {
   "cell_type": "code",
   "execution_count": 92,
   "metadata": {},
   "outputs": [
    {
     "name": "stdout",
     "output_type": "stream",
     "text": [
      "0.8092481375965994\n"
     ]
    }
   ],
   "source": [
    "correlation, _ = pearsonr(Final_DF['Male road traffic deaths'], Final_DF['Male liver cirrhosis deaths'])\n",
    "print(correlation)"
   ]
  },
  {
   "cell_type": "code",
   "execution_count": 57,
   "metadata": {},
   "outputs": [
    {
     "data": {
      "image/png": "[encoded data removed]",
      "text/plain": [
       "<Figure size 432x288 with 1 Axes>"
      ]
     },
     "metadata": {
      "needs_background": "light"
     },
     "output_type": "display_data"
    }
   ],
   "source": [
    "plt.scatter(Final_DF['Female Heavy Episodic Drinking'], Final_DF['Male Heavy Episodic Drinking'], color='pink')\n",
    "plt.xlabel('Female Heavy Episodic Drinking (%)')\n",
    "plt.ylabel('Male Heavy Episodic Drinking (%)')\n",
    "plt.title('Male vs. Female heavy episodic drinking', color='hotpink')\n",
    "plt.savefig('Male_vs_female_heavy_drinking.pdf')"
   ]
  },
  {
   "cell_type": "code",
   "execution_count": 93,
   "metadata": {},
   "outputs": [
    {
     "name": "stdout",
     "output_type": "stream",
     "text": [
      "0.9113293128856228\n"
     ]
    }
   ],
   "source": [
    "correlation, _ = pearsonr(Final_DF['Female Heavy Episodic Drinking'], Final_DF['Male Heavy Episodic Drinking'])\n",
    "print(correlation)"
   ]
  },
  {
   "cell_type": "code",
   "execution_count": 159,
   "metadata": {},
   "outputs": [
    {
     "data": {
      "image/png": "[encoded data removed]",
      "text/plain": [
       "<Figure size 432x288 with 1 Axes>"
      ]
     },
     "metadata": {
      "needs_background": "light"
     },
     "output_type": "display_data"
    }
   ],
   "source": [
    "plt.bar(Final_DF['Youngest legal drinking age'], Final_DF['Total Heavy Episodic Drinking'], color='deeppink')\n",
    "plt.xticks(rotation=90)\n",
    "plt.xlabel('Youngest legal drinking age')\n",
    "plt.ylabel('Total heavy episodic drinking (%)')\n",
    "plt.title('Youngest legal drinking age vs total heavy episodic drinking', color='mediumvioletred')\n",
    "plt.savefig('Youngest_legal_drinking_vs_total_heavy_episodic_drinking.pdf')"
   ]
  },
  {
   "cell_type": "code",
   "execution_count": 95,
   "metadata": {},
   "outputs": [
    {
     "data": {
      "text/plain": [
       "Index(['Year', 'Total Heavy Episodic Drinking', 'Male Heavy Episodic Drinking',\n",
       "       'Female Heavy Episodic Drinking', 'Male liver cirrhosis deaths',\n",
       "       'Female liver cirrhosis deaths', 'Total Abstainers', 'Male Abstainers',\n",
       "       'Female Abstainers', 'Male road traffic deaths',\n",
       "       'Female road traffic deaths', 'Total drinkers under 19',\n",
       "       'Male drinkers under 19', 'Female drinkers under 19',\n",
       "       'Youngest legal drinking age'],\n",
       "      dtype='object')"
      ]
     },
     "execution_count": 95,
     "metadata": {},
     "output_type": "execute_result"
    }
   ],
   "source": [
    "Final_DF.columns"
   ]
  },
  {
   "cell_type": "code",
   "execution_count": 96,
   "metadata": {},
   "outputs": [
    {
     "name": "stdout",
     "output_type": "stream",
     "text": [
      "['Total Heavy Episodic Drinking', 'Male liver cirrhosis deaths', 'Female liver cirrhosis deaths', 'Total Abstainers', 'Male road traffic deaths', 'Female road traffic deaths']\n"
     ]
    }
   ],
   "source": [
    "Features = ['Total Heavy Episodic Drinking', 'Male liver cirrhosis deaths',\n",
    "       'Female liver cirrhosis deaths', 'Total Abstainers', 'Male road traffic deaths',\n",
    "       'Female road traffic deaths', 'Youngest legal drinking age']\n",
    "\n",
    "Continuous_features = Features[:-1]\n",
    "print(Continuous_features)"
   ]
  },
  {
   "cell_type": "code",
   "execution_count": 166,
   "metadata": {},
   "outputs": [
    {
     "data": {
      "image/png": "[encoded data removed]",
      "text/plain": [
       "<Figure size 432x288 with 1 Axes>"
      ]
     },
     "metadata": {
      "needs_background": "light"
     },
     "output_type": "display_data"
    }
   ],
   "source": [
    "for x in Continuous_features:\n",
    "    plt.scatter(Final_DF[x], Final_DF['Total drinkers under 19'])\n",
    "    plt.ylabel('Total drinkers under 19')\n",
    "    plt.legend(Continuous_features)\n",
    "plt.savefig('Continuous_features.pdf')"
   ]
  },
  {
   "cell_type": "code",
   "execution_count": 133,
   "metadata": {},
   "outputs": [
    {
     "data": {
      "text/plain": [
       "Text(0.5, 1.0, 'Total Heavy Episodic Drinking')"
      ]
     },
     "execution_count": 133,
     "metadata": {},
     "output_type": "execute_result"
    },
    {
     "data": {
      "image/png": "[encoded data removed]",
      "text/plain": [
       "<Figure size 432x288 with 1 Axes>"
      ]
     },
     "metadata": {
      "needs_background": "light"
     },
     "output_type": "display_data"
    }
   ],
   "source": [
    "sns.regplot(Final_DF['Total Heavy Episodic Drinking'], Final_DF['Total drinkers under 19'], color='red')\n",
    "plt.title('Total Heavy Episodic Drinking', color='darkred')"
   ]
  },
  {
   "cell_type": "code",
   "execution_count": 143,
   "metadata": {},
   "outputs": [
    {
     "name": "stdout",
     "output_type": "stream",
     "text": [
      "0.34796\n"
     ]
    }
   ],
   "source": [
    "correlation, _ = pearsonr(Final_DF['Total Heavy Episodic Drinking'], Final_DF['Total drinkers under 19'])\n",
    "print(round(correlation, 5))"
   ]
  },
  {
   "cell_type": "code",
   "execution_count": 132,
   "metadata": {},
   "outputs": [
    {
     "data": {
      "text/plain": [
       "Text(0.5, 1.0, 'Male liver cirrhosis deaths')"
      ]
     },
     "execution_count": 132,
     "metadata": {},
     "output_type": "execute_result"
    },
    {
     "data": {
      "image/png": "[encoded data removed]",
      "text/plain": [
       "<Figure size 432x288 with 1 Axes>"
      ]
     },
     "metadata": {
      "needs_background": "light"
     },
     "output_type": "display_data"
    }
   ],
   "source": [
    "sns.regplot(Final_DF['Male liver cirrhosis deaths'], Final_DF['Total drinkers under 19'], color='orange')\n",
    "plt.title('Male liver cirrhosis deaths', color='darkorange')"
   ]
  },
  {
   "cell_type": "code",
   "execution_count": 144,
   "metadata": {},
   "outputs": [
    {
     "name": "stdout",
     "output_type": "stream",
     "text": [
      "0.70956\n"
     ]
    }
   ],
   "source": [
    "correlation, _ = pearsonr(Final_DF['Male liver cirrhosis deaths'], Final_DF['Total drinkers under 19'])\n",
    "print(round(correlation, 5))"
   ]
  },
  {
   "cell_type": "code",
   "execution_count": 131,
   "metadata": {},
   "outputs": [
    {
     "data": {
      "text/plain": [
       "Text(0.5, 1.0, 'Female liver cirrhosis deaths')"
      ]
     },
     "execution_count": 131,
     "metadata": {},
     "output_type": "execute_result"
    },
    {
     "data": {
      "image/png": "[encoded data removed]",
      "text/plain": [
       "<Figure size 432x288 with 1 Axes>"
      ]
     },
     "metadata": {
      "needs_background": "light"
     },
     "output_type": "display_data"
    }
   ],
   "source": [
    "sns.regplot(Final_DF['Female liver cirrhosis deaths'], Final_DF['Total drinkers under 19'], color='gold')\n",
    "plt.title('Female liver cirrhosis deaths', color='orange')"
   ]
  },
  {
   "cell_type": "code",
   "execution_count": 145,
   "metadata": {},
   "outputs": [
    {
     "name": "stdout",
     "output_type": "stream",
     "text": [
      "0.8975\n"
     ]
    }
   ],
   "source": [
    "correlation, _ = pearsonr(Final_DF['Female liver cirrhosis deaths'], Final_DF['Total drinkers under 19'])\n",
    "print(round(correlation, 5))"
   ]
  },
  {
   "cell_type": "code",
   "execution_count": 128,
   "metadata": {},
   "outputs": [
    {
     "data": {
      "text/plain": [
       "Text(0.5, 1.0, 'Total Abstainers')"
      ]
     },
     "execution_count": 128,
     "metadata": {},
     "output_type": "execute_result"
    },
    {
     "data": {
      "image/png": "[encoded data removed]",
      "text/plain": [
       "<Figure size 432x288 with 1 Axes>"
      ]
     },
     "metadata": {
      "needs_background": "light"
     },
     "output_type": "display_data"
    }
   ],
   "source": [
    "sns.regplot(Final_DF['Total Abstainers'], Final_DF['Total drinkers under 19'], color='lightgreen')\n",
    "plt.title('Total Abstainers', color='green')"
   ]
  },
  {
   "cell_type": "code",
   "execution_count": 146,
   "metadata": {},
   "outputs": [
    {
     "name": "stdout",
     "output_type": "stream",
     "text": [
      "-0.98884\n"
     ]
    }
   ],
   "source": [
    "correlation, _ = pearsonr(Final_DF['Total Abstainers'], Final_DF['Total drinkers under 19'])\n",
    "print(round(correlation, 5))"
   ]
  },
  {
   "cell_type": "code",
   "execution_count": 124,
   "metadata": {},
   "outputs": [
    {
     "data": {
      "text/plain": [
       "Text(0.5, 1.0, 'Male Road Traffic Deaths')"
      ]
     },
     "execution_count": 124,
     "metadata": {},
     "output_type": "execute_result"
    },
    {
     "data": {
      "image/png": "[encoded data removed]",
      "text/plain": [
       "<Figure size 432x288 with 1 Axes>"
      ]
     },
     "metadata": {
      "needs_background": "light"
     },
     "output_type": "display_data"
    }
   ],
   "source": [
    "sns.regplot(Final_DF['Male road traffic deaths'], Final_DF['Total drinkers under 19'], color='deepskyblue')\n",
    "plt.title('Male Road Traffic Deaths', color='deepskyblue')"
   ]
  },
  {
   "cell_type": "code",
   "execution_count": 147,
   "metadata": {},
   "outputs": [
    {
     "name": "stdout",
     "output_type": "stream",
     "text": [
      "0.85391\n"
     ]
    }
   ],
   "source": [
    "correlation, _ = pearsonr(Final_DF['Male road traffic deaths'], Final_DF['Total drinkers under 19'])\n",
    "print(round(correlation,5))"
   ]
  },
  {
   "cell_type": "code",
   "execution_count": 123,
   "metadata": {},
   "outputs": [
    {
     "data": {
      "text/plain": [
       "Text(0.5, 1.0, 'Female Road Traffic Deaths')"
      ]
     },
     "execution_count": 123,
     "metadata": {},
     "output_type": "execute_result"
    },
    {
     "data": {
      "image/png": "[encoded data removed]",
      "text/plain": [
       "<Figure size 432x288 with 1 Axes>"
      ]
     },
     "metadata": {
      "needs_background": "light"
     },
     "output_type": "display_data"
    }
   ],
   "source": [
    "sns.regplot(Final_DF['Female road traffic deaths'], Final_DF['Total drinkers under 19'], color='darkblue')\n",
    "plt.title('Female Road Traffic Deaths', color='darkblue')"
   ]
  },
  {
   "cell_type": "code",
   "execution_count": 148,
   "metadata": {},
   "outputs": [
    {
     "name": "stdout",
     "output_type": "stream",
     "text": [
      "0.75527\n"
     ]
    }
   ],
   "source": [
    "correlation, _ = pearsonr(Final_DF['Female road traffic deaths'], Final_DF['Total drinkers under 19'])\n",
    "print(round(correlation, 5))"
   ]
  },
  {
   "cell_type": "markdown",
   "metadata": {},
   "source": [
    "<font size='50'> Data Modeling </font>"
   ]
  },
  {
   "cell_type": "code",
   "execution_count": 62,
   "metadata": {},
   "outputs": [],
   "source": [
    "#Time to machine learn \n",
    "#Currently the model is a linear regression model, but This may change if I make a second model. \n",
    "from sklearn.model_selection import train_test_split\n",
    "from sklearn.linear_model import LinearRegression, ElasticNet, Lasso\n",
    "from sklearn.ensemble import RandomForestRegressor, GradientBoostingRegressor\n",
    "from sklearn.svm import SVR\n",
    "from sklearn.neighbors import KNeighborsRegressor"
   ]
  },
  {
   "cell_type": "code",
   "execution_count": 63,
   "metadata": {},
   "outputs": [],
   "source": [
    "X = Final_DF[Features]"
   ]
  },
  {
   "cell_type": "code",
   "execution_count": 64,
   "metadata": {},
   "outputs": [],
   "source": [
    "y = Final_DF['Total drinkers under 19']"
   ]
  },
  {
   "cell_type": "code",
   "execution_count": 65,
   "metadata": {},
   "outputs": [],
   "source": [
    "X_train, X_val, y_train, y_val = train_test_split(X, y, test_size=0.2, random_state=1)"
   ]
  },
  {
   "cell_type": "code",
   "execution_count": 66,
   "metadata": {},
   "outputs": [],
   "source": [
    "#One hot encoding... Perhaps normmalising is a better option\n",
    "X_train = pd.get_dummies(X_train)\n",
    "X_val = pd.get_dummies(X_val)"
   ]
  },
  {
   "cell_type": "code",
   "execution_count": 67,
   "metadata": {},
   "outputs": [],
   "source": [
    "#Normalising the data\n",
    "from sklearn import preprocessing\n",
    "X_train = preprocessing.StandardScaler().fit(X_train).transform(X_train)\n",
    "X_val = preprocessing.StandardScaler().fit(X_val).transform(X_val)"
   ]
  },
  {
   "cell_type": "code",
   "execution_count": 68,
   "metadata": {},
   "outputs": [],
   "source": [
    "model = LinearRegression()\n",
    "model.fit(X_train, y_train)\n",
    "history = model.predict(X_val)"
   ]
  },
  {
   "cell_type": "code",
   "execution_count": 69,
   "metadata": {},
   "outputs": [
    {
     "name": "stdout",
     "output_type": "stream",
     "text": [
      "Mean squared error:  5.414877915134372\n",
      "Root mean squared error:  2.3269890234236974\n"
     ]
    }
   ],
   "source": [
    "#Evaluation \n",
    "from sklearn import metrics\n",
    "MSE = metrics.mean_squared_error(y_val, history)\n",
    "print('Mean squared error: ', MSE)\n",
    "RMSE = np.sqrt(MSE)\n",
    "print('Root mean squared error: ', RMSE)"
   ]
  },
  {
   "cell_type": "code",
   "execution_count": 70,
   "metadata": {},
   "outputs": [],
   "source": [
    "#KNN model\n",
    "K_model = KNeighborsRegressor(n_neighbors=7)\n",
    "K_model.fit(X_train, y_train)\n",
    "K_history = K_model.predict(X_val)"
   ]
  },
  {
   "cell_type": "code",
   "execution_count": 71,
   "metadata": {},
   "outputs": [
    {
     "name": "stdout",
     "output_type": "stream",
     "text": [
      "Mean squared error:  59.98545112781954\n",
      "Root mean squared error:  7.7450275098168335\n"
     ]
    }
   ],
   "source": [
    "#Evaluation \n",
    "K_MSE = metrics.mean_squared_error(y_val, K_history)\n",
    "print('Mean squared error: ', K_MSE)\n",
    "K_RMSE = np.sqrt(K_MSE)\n",
    "print('Root mean squared error: ', K_RMSE)"
   ]
  },
  {
   "cell_type": "code",
   "execution_count": 72,
   "metadata": {},
   "outputs": [],
   "source": [
    "#SVM model\n",
    "#Potentially adjust the kernal, c or gamma\n",
    "SVM_model = SVR(kernel='linear', C=100, gamma='auto')\n",
    "SVM_model.fit(X_train, y_train)\n",
    "SVM_history = SVM_model.predict(X_val)"
   ]
  },
  {
   "cell_type": "code",
   "execution_count": 73,
   "metadata": {},
   "outputs": [
    {
     "name": "stdout",
     "output_type": "stream",
     "text": [
      "Mean squared error:  5.736074909366283\n",
      "Root mean squared error:  2.3950104194692523\n"
     ]
    }
   ],
   "source": [
    "#Evaluation\n",
    "SVM_MSE = metrics.mean_squared_error(y_val, SVM_history)\n",
    "print('Mean squared error: ', SVM_MSE)\n",
    "SVM_RMSE = np.sqrt(SVM_MSE)\n",
    "print('Root mean squared error: ', SVM_RMSE)"
   ]
  },
  {
   "cell_type": "code",
   "execution_count": 74,
   "metadata": {},
   "outputs": [],
   "source": [
    "#Random forest regressor\n",
    "RF_Model = RandomForestRegressor(random_state=0)\n",
    "RF_Model.fit(X_train, y_train)\n",
    "RF_history = RF_Model.predict(X_val)"
   ]
  },
  {
   "cell_type": "code",
   "execution_count": 75,
   "metadata": {},
   "outputs": [
    {
     "name": "stdout",
     "output_type": "stream",
     "text": [
      "Mean squared error:  3.4261717894736674\n",
      "Root mean squared error:  1.8509921095114554\n"
     ]
    }
   ],
   "source": [
    "#Evaluation\n",
    "RF_MSE = metrics.mean_squared_error(y_val, RF_history)\n",
    "print('Mean squared error: ', RF_MSE)\n",
    "RF_RMSE = np.sqrt(RF_MSE)\n",
    "print('Root mean squared error: ', RF_RMSE)"
   ]
  },
  {
   "cell_type": "code",
   "execution_count": 76,
   "metadata": {},
   "outputs": [],
   "source": [
    "#Gradient Boosting Regressor\n",
    "GB_Model = GradientBoostingRegressor(random_state=0)\n",
    "GB_Model.fit(X_train, y_train)\n",
    "GB_history = GB_Model.predict(X_val)"
   ]
  },
  {
   "cell_type": "code",
   "execution_count": 77,
   "metadata": {},
   "outputs": [
    {
     "name": "stdout",
     "output_type": "stream",
     "text": [
      "Mean squared error:  4.840302453915832\n",
      "Root mean squared error:  2.2000687384524675\n"
     ]
    }
   ],
   "source": [
    "#Evaluation\n",
    "GB_MSE = metrics.mean_squared_error(y_val, GB_history)\n",
    "print('Mean squared error: ', GB_MSE)\n",
    "GB_RMSE = np.sqrt(GB_MSE)\n",
    "print('Root mean squared error: ', GB_RMSE)"
   ]
  },
  {
   "cell_type": "code",
   "execution_count": 78,
   "metadata": {},
   "outputs": [],
   "source": [
    "#Elastic Net regressor\n",
    "EN_Model = ElasticNet(random_state=0)\n",
    "EN_Model.fit(X_train, y_train)\n",
    "EN_history = EN_Model.predict(X_val)"
   ]
  },
  {
   "cell_type": "code",
   "execution_count": 79,
   "metadata": {},
   "outputs": [
    {
     "name": "stdout",
     "output_type": "stream",
     "text": [
      "Mean squared error:  49.26183861545442\n",
      "Root mean squared error:  7.018677839554571\n"
     ]
    }
   ],
   "source": [
    "#Evaluation\n",
    "EN_MSE = metrics.mean_squared_error(y_val, EN_history)\n",
    "print('Mean squared error: ', EN_MSE)\n",
    "EN_RMSE = np.sqrt(EN_MSE)\n",
    "print('Root mean squared error: ', EN_RMSE)"
   ]
  },
  {
   "cell_type": "code",
   "execution_count": 80,
   "metadata": {},
   "outputs": [],
   "source": [
    "L_Model = Lasso(alpha=0.1)\n",
    "L_Model.fit(X_train, y_train)\n",
    "L_history = L_Model.predict(X_val)"
   ]
  },
  {
   "cell_type": "code",
   "execution_count": 81,
   "metadata": {},
   "outputs": [
    {
     "name": "stdout",
     "output_type": "stream",
     "text": [
      "Mean squared error:  8.726779394755534\n",
      "Root mean squared error:  2.954112285400732\n"
     ]
    }
   ],
   "source": [
    "L_MSE = metrics.mean_squared_error(y_val, L_history)\n",
    "print('Mean squared error: ', L_MSE)\n",
    "L_RMSE = np.sqrt(L_MSE)\n",
    "print('Root mean squared error: ', L_RMSE)"
   ]
  },
  {
   "cell_type": "code",
   "execution_count": 82,
   "metadata": {},
   "outputs": [],
   "source": [
    "Models = ['Linear Regression', 'KNN', 'SVM', 'Random Forest', 'Gradient Boosting Regressor', 'Elastic Net Regressor', 'Lasso Regressor']\n",
    "RMSEs = [RMSE, K_RMSE, SVM_RMSE, RF_RMSE, GB_RMSE, EN_RMSE, L_RMSE]\n",
    "data = {'Models': Models, 'RMSE': RMSEs}"
   ]
  },
  {
   "cell_type": "code",
   "execution_count": 83,
   "metadata": {},
   "outputs": [
    {
     "data": {
      "text/html": [
       "<div>\n",
       "<style scoped>\n",
       "    .dataframe tbody tr th:only-of-type {\n",
       "        vertical-align: middle;\n",
       "    }\n",
       "\n",
       "    .dataframe tbody tr th {\n",
       "        vertical-align: top;\n",
       "    }\n",
       "\n",
       "    .dataframe thead th {\n",
       "        text-align: right;\n",
       "    }\n",
       "</style>\n",
       "<table border=\"1\" class=\"dataframe\">\n",
       "  <thead>\n",
       "    <tr style=\"text-align: right;\">\n",
       "      <th></th>\n",
       "      <th>Models</th>\n",
       "      <th>RMSE</th>\n",
       "    </tr>\n",
       "  </thead>\n",
       "  <tbody>\n",
       "    <tr>\n",
       "      <th>0</th>\n",
       "      <td>Linear Regression</td>\n",
       "      <td>2.326989</td>\n",
       "    </tr>\n",
       "    <tr>\n",
       "      <th>1</th>\n",
       "      <td>KNN</td>\n",
       "      <td>7.745028</td>\n",
       "    </tr>\n",
       "    <tr>\n",
       "      <th>2</th>\n",
       "      <td>SVM</td>\n",
       "      <td>2.395010</td>\n",
       "    </tr>\n",
       "    <tr>\n",
       "      <th>3</th>\n",
       "      <td>Random Forest</td>\n",
       "      <td>1.850992</td>\n",
       "    </tr>\n",
       "    <tr>\n",
       "      <th>4</th>\n",
       "      <td>Gradient Boosting Regressor</td>\n",
       "      <td>2.200069</td>\n",
       "    </tr>\n",
       "    <tr>\n",
       "      <th>5</th>\n",
       "      <td>Elastic Net Regressor</td>\n",
       "      <td>7.018678</td>\n",
       "    </tr>\n",
       "    <tr>\n",
       "      <th>6</th>\n",
       "      <td>Lasso Regressor</td>\n",
       "      <td>2.954112</td>\n",
       "    </tr>\n",
       "  </tbody>\n",
       "</table>\n",
       "</div>"
      ],
      "text/plain": [
       "                        Models      RMSE\n",
       "0            Linear Regression  2.326989\n",
       "1                          KNN  7.745028\n",
       "2                          SVM  2.395010\n",
       "3                Random Forest  1.850992\n",
       "4  Gradient Boosting Regressor  2.200069\n",
       "5        Elastic Net Regressor  7.018678\n",
       "6              Lasso Regressor  2.954112"
      ]
     },
     "execution_count": 83,
     "metadata": {},
     "output_type": "execute_result"
    }
   ],
   "source": [
    "Evaluation = pd.DataFrame(data)\n",
    "Evaluation.head(10)"
   ]
  },
  {
   "cell_type": "code",
   "execution_count": 140,
   "metadata": {},
   "outputs": [
    {
     "data": {
      "image/png": "[encoded data removed]",
      "text/plain": [
       "<Figure size 432x288 with 1 Axes>"
      ]
     },
     "metadata": {
      "needs_background": "light"
     },
     "output_type": "display_data"
    }
   ],
   "source": [
    "plt.bar(Models, RMSEs, color='cyan')\n",
    "plt.xticks(rotation=45)\n",
    "plt.title('Model RSMV values', color='darkcyan')\n",
    "plt.savefig('Model_evaluation.pdf')"
   ]
  }
 ],
 "metadata": {
  "kernelspec": {
   "display_name": "Python 3",
   "language": "python",
   "name": "python3"
  },
  "language_info": {
   "codemirror_mode": {
    "name": "ipython",
    "version": 3
   },
   "file_extension": ".py",
   "mimetype": "text/x-python",
   "name": "python",
   "nbconvert_exporter": "python",
   "pygments_lexer": "ipython3",
   "version": "3.7.6"
  }
 },
 "nbformat": 4,
 "nbformat_minor": 4
}
